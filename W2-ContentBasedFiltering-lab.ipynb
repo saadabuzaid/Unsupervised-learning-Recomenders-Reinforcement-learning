{
 "cells": [
  {
   "cell_type": "markdown",
   "metadata": {},
   "source": [
    "## Practice lab: Deep Learning for Content-Based Filtering\n",
    "In this exercise, you will implement content-based filtering using a neural network to build a recommender system for movies"
   ]
  },
  {
   "cell_type": "markdown",
   "metadata": {},
   "source": [
    "#### Packages"
   ]
  },
  {
   "cell_type": "code",
   "execution_count": 168,
   "metadata": {},
   "outputs": [],
   "source": [
    "import numpy as np\n",
    "import numpy.ma as ma\n",
    "import pandas as pd\n",
    "import tensorflow as tf\n",
    "from sklearn.preprocessing import StandardScaler, MinMaxScaler\n",
    "from sklearn.model_selection import train_test_split\n",
    "import tabulate\n",
    "from recsysNN_utils import *\n",
    "pd.set_option(\"display.precision\", 1)"
   ]
  },
  {
   "cell_type": "markdown",
   "metadata": {},
   "source": [
    "#### Dataset"
   ]
  },
  {
   "cell_type": "markdown",
   "metadata": {},
   "source": [
    "The data set is derived from the [MovieLens ml-latest-small](https://grouplens.org/datasets/movielens/latest/) dataset. \n",
    "\n",
    "[F. Maxwell Harper and Joseph A. Konstan. 2015. The MovieLens Datasets: History and Context. ACM Transactions on Interactive Intelligent Systems (TiiS) 5, 4: 19:1–19:19. <https://doi.org/10.1145/2827872>]\n",
    "\n",
    "The original dataset has roughly 9000 movies rated by 600 users with ratings on a scale of 0.5 to 5 in 0.5 step increments. The dataset has been reduced in size to focus on movies from the years since 2000 and popular genres. The reduced dataset has $n_u = 397$ users, $n_m= 847$ movies and 25521 ratings. For each movie, the dataset provides a movie title, release date, and one or more genres. For example \"Toy Story 3\" was released in 2010 and has several genres: \"Adventure|Animation|Children|Comedy|Fantasy\". This dataset contains little information about users other than their ratings. This dataset is used to create training vectors for the neural networks described below. \n",
    "Let's learn a bit more about this data set. The table below shows the top 10 movies ranked by the number of ratings. These movies also happen to have high average ratings. How many of these movies have you watched? "
   ]
  },
  {
   "cell_type": "code",
   "execution_count": 169,
   "metadata": {},
   "outputs": [
    {
     "data": {
      "text/html": [
       "<div>\n",
       "<style scoped>\n",
       "    .dataframe tbody tr th:only-of-type {\n",
       "        vertical-align: middle;\n",
       "    }\n",
       "\n",
       "    .dataframe tbody tr th {\n",
       "        vertical-align: top;\n",
       "    }\n",
       "\n",
       "    .dataframe thead th {\n",
       "        text-align: right;\n",
       "    }\n",
       "</style>\n",
       "<table border=\"1\" class=\"dataframe\">\n",
       "  <thead>\n",
       "    <tr style=\"text-align: right;\">\n",
       "      <th></th>\n",
       "      <th>movie id</th>\n",
       "      <th>num ratings</th>\n",
       "      <th>ave rating</th>\n",
       "      <th>title</th>\n",
       "      <th>genres</th>\n",
       "    </tr>\n",
       "  </thead>\n",
       "  <tbody>\n",
       "    <tr>\n",
       "      <th>0</th>\n",
       "      <td>4993</td>\n",
       "      <td>198</td>\n",
       "      <td>4.1</td>\n",
       "      <td>Lord of the Rings: The Fellowship of the Ring,...</td>\n",
       "      <td>Adventure|Fantasy</td>\n",
       "    </tr>\n",
       "    <tr>\n",
       "      <th>1</th>\n",
       "      <td>5952</td>\n",
       "      <td>188</td>\n",
       "      <td>4.0</td>\n",
       "      <td>Lord of the Rings: The Two Towers, The</td>\n",
       "      <td>Adventure|Fantasy</td>\n",
       "    </tr>\n",
       "    <tr>\n",
       "      <th>2</th>\n",
       "      <td>7153</td>\n",
       "      <td>185</td>\n",
       "      <td>4.1</td>\n",
       "      <td>Lord of the Rings: The Return of the King, The</td>\n",
       "      <td>Action|Adventure|Drama|Fantasy</td>\n",
       "    </tr>\n",
       "    <tr>\n",
       "      <th>3</th>\n",
       "      <td>4306</td>\n",
       "      <td>170</td>\n",
       "      <td>3.9</td>\n",
       "      <td>Shrek</td>\n",
       "      <td>Adventure|Animation|Children|Comedy|Fantasy|Ro...</td>\n",
       "    </tr>\n",
       "    <tr>\n",
       "      <th>4</th>\n",
       "      <td>58559</td>\n",
       "      <td>149</td>\n",
       "      <td>4.2</td>\n",
       "      <td>Dark Knight, The</td>\n",
       "      <td>Action|Crime|Drama</td>\n",
       "    </tr>\n",
       "    <tr>\n",
       "      <th>5</th>\n",
       "      <td>6539</td>\n",
       "      <td>149</td>\n",
       "      <td>3.8</td>\n",
       "      <td>Pirates of the Caribbean: The Curse of the Bla...</td>\n",
       "      <td>Action|Adventure|Comedy|Fantasy</td>\n",
       "    </tr>\n",
       "    <tr>\n",
       "      <th>6</th>\n",
       "      <td>79132</td>\n",
       "      <td>143</td>\n",
       "      <td>4.1</td>\n",
       "      <td>Inception</td>\n",
       "      <td>Action|Crime|Drama|Mystery|Sci-Fi|Thriller</td>\n",
       "    </tr>\n",
       "    <tr>\n",
       "      <th>7</th>\n",
       "      <td>6377</td>\n",
       "      <td>141</td>\n",
       "      <td>4.0</td>\n",
       "      <td>Finding Nemo</td>\n",
       "      <td>Adventure|Animation|Children|Comedy</td>\n",
       "    </tr>\n",
       "    <tr>\n",
       "      <th>8</th>\n",
       "      <td>4886</td>\n",
       "      <td>132</td>\n",
       "      <td>3.9</td>\n",
       "      <td>Monsters, Inc.</td>\n",
       "      <td>Adventure|Animation|Children|Comedy|Fantasy</td>\n",
       "    </tr>\n",
       "    <tr>\n",
       "      <th>9</th>\n",
       "      <td>7361</td>\n",
       "      <td>131</td>\n",
       "      <td>4.2</td>\n",
       "      <td>Eternal Sunshine of the Spotless Mind</td>\n",
       "      <td>Drama|Romance|Sci-Fi</td>\n",
       "    </tr>\n",
       "  </tbody>\n",
       "</table>\n",
       "</div>"
      ],
      "text/plain": [
       "   movie id  num ratings  ave rating  \\\n",
       "0      4993          198         4.1   \n",
       "1      5952          188         4.0   \n",
       "2      7153          185         4.1   \n",
       "3      4306          170         3.9   \n",
       "4     58559          149         4.2   \n",
       "5      6539          149         3.8   \n",
       "6     79132          143         4.1   \n",
       "7      6377          141         4.0   \n",
       "8      4886          132         3.9   \n",
       "9      7361          131         4.2   \n",
       "\n",
       "                                               title  \\\n",
       "0  Lord of the Rings: The Fellowship of the Ring,...   \n",
       "1             Lord of the Rings: The Two Towers, The   \n",
       "2     Lord of the Rings: The Return of the King, The   \n",
       "3                                              Shrek   \n",
       "4                                   Dark Knight, The   \n",
       "5  Pirates of the Caribbean: The Curse of the Bla...   \n",
       "6                                          Inception   \n",
       "7                                       Finding Nemo   \n",
       "8                                     Monsters, Inc.   \n",
       "9              Eternal Sunshine of the Spotless Mind   \n",
       "\n",
       "                                              genres  \n",
       "0                                  Adventure|Fantasy  \n",
       "1                                  Adventure|Fantasy  \n",
       "2                     Action|Adventure|Drama|Fantasy  \n",
       "3  Adventure|Animation|Children|Comedy|Fantasy|Ro...  \n",
       "4                                 Action|Crime|Drama  \n",
       "5                    Action|Adventure|Comedy|Fantasy  \n",
       "6         Action|Crime|Drama|Mystery|Sci-Fi|Thriller  \n",
       "7                Adventure|Animation|Children|Comedy  \n",
       "8        Adventure|Animation|Children|Comedy|Fantasy  \n",
       "9                               Drama|Romance|Sci-Fi  "
      ]
     },
     "execution_count": 169,
     "metadata": {},
     "output_type": "execute_result"
    }
   ],
   "source": [
    "top10_df = pd.read_csv(\"./data/content_top10_df.csv\")\n",
    "bygenre_df = pd.read_csv(\"./data/content_bygenre_df.csv\")\n",
    "top10_df"
   ]
  },
  {
   "cell_type": "markdown",
   "metadata": {},
   "source": [
    "#### Content-based filtering algorithm"
   ]
  },
  {
   "cell_type": "markdown",
   "metadata": {},
   "source": [
    "In the collaborative filtering lab, you generated two vectors, a user vector and an item/movie vector whose dot product would predict a rating. The vectors were derived solely from the ratings.\n",
    "\n",
    "Content-based filtering also generates a user and movie feature vector but recognizes there may be other information available about the user and/or movie that may improve the prediction. The additional information is provided to a neural network which then generates the user and movie vector as shown below\n",
    "\n",
    "<figure>\n",
    "    <center> <img src=\"./Resources/Content-based filtering NN.png\"   style=\"width:500px;height:280px;\" ></center>\n",
    "</figure>\n"
   ]
  },
  {
   "cell_type": "markdown",
   "metadata": {},
   "source": [
    "##### Training data"
   ]
  },
  {
   "cell_type": "markdown",
   "metadata": {},
   "source": [
    "The movie content provided to the network is a combination of the original data and some 'engineered features'. Recall the feature engineering discussion and lab from Course 1, Week 2, lab 4. The original features are the year the movie was released and the movie's genre's presented as a one-hot vector. There are 14 genres. The engineered feature is an average rating derived from the user ratings. \n",
    "\n",
    "The user content is composed of engineered features. A per genre average rating is computed per user. Additionally, a user id, rating count and rating average are available but not included in the training or prediction content. They are carried with the data set because they are useful in interpreting data.\n",
    "\n",
    "The training set consists of all the ratings made by the users in the data set. Some ratings are repeated to boost the number of training examples of underrepresented genre's. The training set is split into two arrays with the same number of entries, a user array and a movie/item array"
   ]
  },
  {
   "cell_type": "code",
   "execution_count": 170,
   "metadata": {},
   "outputs": [
    {
     "name": "stdout",
     "output_type": "stream",
     "text": [
      "Number of training vectors: 50884\n"
     ]
    },
    {
     "data": {
      "text/html": [
       "<table>\n",
       "<thead>\n",
       "<tr><th style=\"text-align: center;\"> [user id] </th><th style=\"text-align: center;\"> [rating count] </th><th style=\"text-align: center;\"> [rating ave] </th><th style=\"text-align: center;\"> Act ion </th><th style=\"text-align: center;\"> Adve nture </th><th style=\"text-align: center;\"> Anim ation </th><th style=\"text-align: center;\"> Chil dren </th><th style=\"text-align: center;\"> Com edy </th><th style=\"text-align: center;\"> Crime </th><th style=\"text-align: center;\"> Docum entary </th><th style=\"text-align: center;\"> Drama </th><th style=\"text-align: center;\"> Fan tasy </th><th style=\"text-align: center;\"> Hor ror </th><th style=\"text-align: center;\"> Mys tery </th><th style=\"text-align: center;\"> Rom ance </th><th style=\"text-align: center;\"> Sci -Fi </th><th style=\"text-align: center;\"> Thri ller </th></tr>\n",
       "</thead>\n",
       "<tbody>\n",
       "<tr><td style=\"text-align: center;\">     2     </td><td style=\"text-align: center;\">       22       </td><td style=\"text-align: center;\">     4.0      </td><td style=\"text-align: center;\">   4.0   </td><td style=\"text-align: center;\">    4.2     </td><td style=\"text-align: center;\">    0.0     </td><td style=\"text-align: center;\">    0.0    </td><td style=\"text-align: center;\">   4.0   </td><td style=\"text-align: center;\">  4.1  </td><td style=\"text-align: center;\">     4.0      </td><td style=\"text-align: center;\">  4.0  </td><td style=\"text-align: center;\">   0.0    </td><td style=\"text-align: center;\">   3.0   </td><td style=\"text-align: center;\">   4.0    </td><td style=\"text-align: center;\">   0.0    </td><td style=\"text-align: center;\">   3.9   </td><td style=\"text-align: center;\">    3.9    </td></tr>\n",
       "<tr><td style=\"text-align: center;\">     2     </td><td style=\"text-align: center;\">       22       </td><td style=\"text-align: center;\">     4.0      </td><td style=\"text-align: center;\">   4.0   </td><td style=\"text-align: center;\">    4.2     </td><td style=\"text-align: center;\">    0.0     </td><td style=\"text-align: center;\">    0.0    </td><td style=\"text-align: center;\">   4.0   </td><td style=\"text-align: center;\">  4.1  </td><td style=\"text-align: center;\">     4.0      </td><td style=\"text-align: center;\">  4.0  </td><td style=\"text-align: center;\">   0.0    </td><td style=\"text-align: center;\">   3.0   </td><td style=\"text-align: center;\">   4.0    </td><td style=\"text-align: center;\">   0.0    </td><td style=\"text-align: center;\">   3.9   </td><td style=\"text-align: center;\">    3.9    </td></tr>\n",
       "<tr><td style=\"text-align: center;\">     2     </td><td style=\"text-align: center;\">       22       </td><td style=\"text-align: center;\">     4.0      </td><td style=\"text-align: center;\">   4.0   </td><td style=\"text-align: center;\">    4.2     </td><td style=\"text-align: center;\">    0.0     </td><td style=\"text-align: center;\">    0.0    </td><td style=\"text-align: center;\">   4.0   </td><td style=\"text-align: center;\">  4.1  </td><td style=\"text-align: center;\">     4.0      </td><td style=\"text-align: center;\">  4.0  </td><td style=\"text-align: center;\">   0.0    </td><td style=\"text-align: center;\">   3.0   </td><td style=\"text-align: center;\">   4.0    </td><td style=\"text-align: center;\">   0.0    </td><td style=\"text-align: center;\">   3.9   </td><td style=\"text-align: center;\">    3.9    </td></tr>\n",
       "<tr><td style=\"text-align: center;\">     2     </td><td style=\"text-align: center;\">       22       </td><td style=\"text-align: center;\">     4.0      </td><td style=\"text-align: center;\">   4.0   </td><td style=\"text-align: center;\">    4.2     </td><td style=\"text-align: center;\">    0.0     </td><td style=\"text-align: center;\">    0.0    </td><td style=\"text-align: center;\">   4.0   </td><td style=\"text-align: center;\">  4.1  </td><td style=\"text-align: center;\">     4.0      </td><td style=\"text-align: center;\">  4.0  </td><td style=\"text-align: center;\">   0.0    </td><td style=\"text-align: center;\">   3.0   </td><td style=\"text-align: center;\">   4.0    </td><td style=\"text-align: center;\">   0.0    </td><td style=\"text-align: center;\">   3.9   </td><td style=\"text-align: center;\">    3.9    </td></tr>\n",
       "<tr><td style=\"text-align: center;\">     2     </td><td style=\"text-align: center;\">       22       </td><td style=\"text-align: center;\">     4.0      </td><td style=\"text-align: center;\">   4.0   </td><td style=\"text-align: center;\">    4.2     </td><td style=\"text-align: center;\">    0.0     </td><td style=\"text-align: center;\">    0.0    </td><td style=\"text-align: center;\">   4.0   </td><td style=\"text-align: center;\">  4.1  </td><td style=\"text-align: center;\">     4.0      </td><td style=\"text-align: center;\">  4.0  </td><td style=\"text-align: center;\">   0.0    </td><td style=\"text-align: center;\">   3.0   </td><td style=\"text-align: center;\">   4.0    </td><td style=\"text-align: center;\">   0.0    </td><td style=\"text-align: center;\">   3.9   </td><td style=\"text-align: center;\">    3.9    </td></tr>\n",
       "</tbody>\n",
       "</table>"
      ],
      "text/plain": [
       "'<table>\\n<thead>\\n<tr><th style=\"text-align: center;\"> [user id] </th><th style=\"text-align: center;\"> [rating count] </th><th style=\"text-align: center;\"> [rating ave] </th><th style=\"text-align: center;\"> Act ion </th><th style=\"text-align: center;\"> Adve nture </th><th style=\"text-align: center;\"> Anim ation </th><th style=\"text-align: center;\"> Chil dren </th><th style=\"text-align: center;\"> Com edy </th><th style=\"text-align: center;\"> Crime </th><th style=\"text-align: center;\"> Docum entary </th><th style=\"text-align: center;\"> Drama </th><th style=\"text-align: center;\"> Fan tasy </th><th style=\"text-align: center;\"> Hor ror </th><th style=\"text-align: center;\"> Mys tery </th><th style=\"text-align: center;\"> Rom ance </th><th style=\"text-align: center;\"> Sci -Fi </th><th style=\"text-align: center;\"> Thri ller </th></tr>\\n</thead>\\n<tbody>\\n<tr><td style=\"text-align: center;\">     2     </td><td style=\"text-align: center;\">       22       </td><td style=\"text-align: center;\">     4.0      </td><td style=\"text-align: center;\">   4.0   </td><td style=\"text-align: center;\">    4.2     </td><td style=\"text-align: center;\">    0.0     </td><td style=\"text-align: center;\">    0.0    </td><td style=\"text-align: center;\">   4.0   </td><td style=\"text-align: center;\">  4.1  </td><td style=\"text-align: center;\">     4.0      </td><td style=\"text-align: center;\">  4.0  </td><td style=\"text-align: center;\">   0.0    </td><td style=\"text-align: center;\">   3.0   </td><td style=\"text-align: center;\">   4.0    </td><td style=\"text-align: center;\">   0.0    </td><td style=\"text-align: center;\">   3.9   </td><td style=\"text-align: center;\">    3.9    </td></tr>\\n<tr><td style=\"text-align: center;\">     2     </td><td style=\"text-align: center;\">       22       </td><td style=\"text-align: center;\">     4.0      </td><td style=\"text-align: center;\">   4.0   </td><td style=\"text-align: center;\">    4.2     </td><td style=\"text-align: center;\">    0.0     </td><td style=\"text-align: center;\">    0.0    </td><td style=\"text-align: center;\">   4.0   </td><td style=\"text-align: center;\">  4.1  </td><td style=\"text-align: center;\">     4.0      </td><td style=\"text-align: center;\">  4.0  </td><td style=\"text-align: center;\">   0.0    </td><td style=\"text-align: center;\">   3.0   </td><td style=\"text-align: center;\">   4.0    </td><td style=\"text-align: center;\">   0.0    </td><td style=\"text-align: center;\">   3.9   </td><td style=\"text-align: center;\">    3.9    </td></tr>\\n<tr><td style=\"text-align: center;\">     2     </td><td style=\"text-align: center;\">       22       </td><td style=\"text-align: center;\">     4.0      </td><td style=\"text-align: center;\">   4.0   </td><td style=\"text-align: center;\">    4.2     </td><td style=\"text-align: center;\">    0.0     </td><td style=\"text-align: center;\">    0.0    </td><td style=\"text-align: center;\">   4.0   </td><td style=\"text-align: center;\">  4.1  </td><td style=\"text-align: center;\">     4.0      </td><td style=\"text-align: center;\">  4.0  </td><td style=\"text-align: center;\">   0.0    </td><td style=\"text-align: center;\">   3.0   </td><td style=\"text-align: center;\">   4.0    </td><td style=\"text-align: center;\">   0.0    </td><td style=\"text-align: center;\">   3.9   </td><td style=\"text-align: center;\">    3.9    </td></tr>\\n<tr><td style=\"text-align: center;\">     2     </td><td style=\"text-align: center;\">       22       </td><td style=\"text-align: center;\">     4.0      </td><td style=\"text-align: center;\">   4.0   </td><td style=\"text-align: center;\">    4.2     </td><td style=\"text-align: center;\">    0.0     </td><td style=\"text-align: center;\">    0.0    </td><td style=\"text-align: center;\">   4.0   </td><td style=\"text-align: center;\">  4.1  </td><td style=\"text-align: center;\">     4.0      </td><td style=\"text-align: center;\">  4.0  </td><td style=\"text-align: center;\">   0.0    </td><td style=\"text-align: center;\">   3.0   </td><td style=\"text-align: center;\">   4.0    </td><td style=\"text-align: center;\">   0.0    </td><td style=\"text-align: center;\">   3.9   </td><td style=\"text-align: center;\">    3.9    </td></tr>\\n<tr><td style=\"text-align: center;\">     2     </td><td style=\"text-align: center;\">       22       </td><td style=\"text-align: center;\">     4.0      </td><td style=\"text-align: center;\">   4.0   </td><td style=\"text-align: center;\">    4.2     </td><td style=\"text-align: center;\">    0.0     </td><td style=\"text-align: center;\">    0.0    </td><td style=\"text-align: center;\">   4.0   </td><td style=\"text-align: center;\">  4.1  </td><td style=\"text-align: center;\">     4.0      </td><td style=\"text-align: center;\">  4.0  </td><td style=\"text-align: center;\">   0.0    </td><td style=\"text-align: center;\">   3.0   </td><td style=\"text-align: center;\">   4.0    </td><td style=\"text-align: center;\">   0.0    </td><td style=\"text-align: center;\">   3.9   </td><td style=\"text-align: center;\">    3.9    </td></tr>\\n</tbody>\\n</table>'"
      ]
     },
     "execution_count": 170,
     "metadata": {},
     "output_type": "execute_result"
    }
   ],
   "source": [
    "# Load Data, set configuration variables\n",
    "item_train, user_train, y_train, item_features, user_features, item_vecs, movie_dict, user_to_genre = load_data()\n",
    "\n",
    "num_user_features = user_train.shape[1] - 3  # remove userid, rating count and ave rating during training\n",
    "num_item_features = item_train.shape[1] - 1  # remove movie id at train time\n",
    "uvs = 3  # user genre vector start\n",
    "ivs = 3  # item genre vector start\n",
    "u_s = 3  # start of columns to use in training, user\n",
    "i_s = 1  # start of columns to use in training, items\n",
    "print(f\"Number of training vectors: {len(item_train)}\")\n",
    "pprint_train(user_train, user_features, uvs,  u_s, maxcount=5)"
   ]
  },
  {
   "cell_type": "markdown",
   "metadata": {},
   "source": [
    "pprint_train(user_train, user_features, uvs,  u_s, maxcount=5)\n",
    "pprint_train(user_train, user_features, uvs,  u_s, maxcount=5)\n",
    "Some of the user and item/movie features are not used in training. In the table above, the features in brackets \"[]\" such as the \"user id\", \"rating count\" and \"rating ave\" are not included when the model is trained and used. Above you can see the per genre rating average for user 2. Zero entries are genre's which the user had not rated. The user vector is the same for all the movies rated by a user.\n",
    "Let's look at the first few entries of the movie/item array."
   ]
  },
  {
   "cell_type": "code",
   "execution_count": 171,
   "metadata": {},
   "outputs": [
    {
     "data": {
      "text/html": [
       "<table>\n",
       "<thead>\n",
       "<tr><th style=\"text-align: center;\"> [movie id] </th><th style=\"text-align: center;\"> year </th><th style=\"text-align: center;\"> ave rating </th><th style=\"text-align: center;\"> Act ion </th><th style=\"text-align: center;\"> Adve nture </th><th style=\"text-align: center;\"> Anim ation </th><th style=\"text-align: center;\"> Chil dren </th><th style=\"text-align: center;\"> Com edy </th><th style=\"text-align: center;\"> Crime </th><th style=\"text-align: center;\"> Docum entary </th><th style=\"text-align: center;\"> Drama </th><th style=\"text-align: center;\"> Fan tasy </th><th style=\"text-align: center;\"> Hor ror </th><th style=\"text-align: center;\"> Mys tery </th><th style=\"text-align: center;\"> Rom ance </th><th style=\"text-align: center;\"> Sci -Fi </th><th style=\"text-align: center;\"> Thri ller </th></tr>\n",
       "</thead>\n",
       "<tbody>\n",
       "<tr><td style=\"text-align: center;\">    6874    </td><td style=\"text-align: center;\"> 2003 </td><td style=\"text-align: center;\">    4.0     </td><td style=\"text-align: center;\">    1    </td><td style=\"text-align: center;\">     0      </td><td style=\"text-align: center;\">     0      </td><td style=\"text-align: center;\">     0     </td><td style=\"text-align: center;\">    0    </td><td style=\"text-align: center;\">   1   </td><td style=\"text-align: center;\">      0       </td><td style=\"text-align: center;\">   0   </td><td style=\"text-align: center;\">    0     </td><td style=\"text-align: center;\">    0    </td><td style=\"text-align: center;\">    0     </td><td style=\"text-align: center;\">    0     </td><td style=\"text-align: center;\">    0    </td><td style=\"text-align: center;\">     1     </td></tr>\n",
       "<tr><td style=\"text-align: center;\">    8798    </td><td style=\"text-align: center;\"> 2004 </td><td style=\"text-align: center;\">    3.8     </td><td style=\"text-align: center;\">    1    </td><td style=\"text-align: center;\">     0      </td><td style=\"text-align: center;\">     0      </td><td style=\"text-align: center;\">     0     </td><td style=\"text-align: center;\">    0    </td><td style=\"text-align: center;\">   1   </td><td style=\"text-align: center;\">      0       </td><td style=\"text-align: center;\">   1   </td><td style=\"text-align: center;\">    0     </td><td style=\"text-align: center;\">    0    </td><td style=\"text-align: center;\">    0     </td><td style=\"text-align: center;\">    0     </td><td style=\"text-align: center;\">    0    </td><td style=\"text-align: center;\">     1     </td></tr>\n",
       "<tr><td style=\"text-align: center;\">   46970    </td><td style=\"text-align: center;\"> 2006 </td><td style=\"text-align: center;\">    3.2     </td><td style=\"text-align: center;\">    1    </td><td style=\"text-align: center;\">     0      </td><td style=\"text-align: center;\">     0      </td><td style=\"text-align: center;\">     0     </td><td style=\"text-align: center;\">    1    </td><td style=\"text-align: center;\">   0   </td><td style=\"text-align: center;\">      0       </td><td style=\"text-align: center;\">   0   </td><td style=\"text-align: center;\">    0     </td><td style=\"text-align: center;\">    0    </td><td style=\"text-align: center;\">    0     </td><td style=\"text-align: center;\">    0     </td><td style=\"text-align: center;\">    0    </td><td style=\"text-align: center;\">     0     </td></tr>\n",
       "<tr><td style=\"text-align: center;\">   48516    </td><td style=\"text-align: center;\"> 2006 </td><td style=\"text-align: center;\">    4.3     </td><td style=\"text-align: center;\">    0    </td><td style=\"text-align: center;\">     0      </td><td style=\"text-align: center;\">     0      </td><td style=\"text-align: center;\">     0     </td><td style=\"text-align: center;\">    0    </td><td style=\"text-align: center;\">   1   </td><td style=\"text-align: center;\">      0       </td><td style=\"text-align: center;\">   1   </td><td style=\"text-align: center;\">    0     </td><td style=\"text-align: center;\">    0    </td><td style=\"text-align: center;\">    0     </td><td style=\"text-align: center;\">    0     </td><td style=\"text-align: center;\">    0    </td><td style=\"text-align: center;\">     1     </td></tr>\n",
       "<tr><td style=\"text-align: center;\">   58559    </td><td style=\"text-align: center;\"> 2008 </td><td style=\"text-align: center;\">    4.2     </td><td style=\"text-align: center;\">    1    </td><td style=\"text-align: center;\">     0      </td><td style=\"text-align: center;\">     0      </td><td style=\"text-align: center;\">     0     </td><td style=\"text-align: center;\">    0    </td><td style=\"text-align: center;\">   1   </td><td style=\"text-align: center;\">      0       </td><td style=\"text-align: center;\">   1   </td><td style=\"text-align: center;\">    0     </td><td style=\"text-align: center;\">    0    </td><td style=\"text-align: center;\">    0     </td><td style=\"text-align: center;\">    0     </td><td style=\"text-align: center;\">    0    </td><td style=\"text-align: center;\">     0     </td></tr>\n",
       "</tbody>\n",
       "</table>"
      ],
      "text/plain": [
       "'<table>\\n<thead>\\n<tr><th style=\"text-align: center;\"> [movie id] </th><th style=\"text-align: center;\"> year </th><th style=\"text-align: center;\"> ave rating </th><th style=\"text-align: center;\"> Act ion </th><th style=\"text-align: center;\"> Adve nture </th><th style=\"text-align: center;\"> Anim ation </th><th style=\"text-align: center;\"> Chil dren </th><th style=\"text-align: center;\"> Com edy </th><th style=\"text-align: center;\"> Crime </th><th style=\"text-align: center;\"> Docum entary </th><th style=\"text-align: center;\"> Drama </th><th style=\"text-align: center;\"> Fan tasy </th><th style=\"text-align: center;\"> Hor ror </th><th style=\"text-align: center;\"> Mys tery </th><th style=\"text-align: center;\"> Rom ance </th><th style=\"text-align: center;\"> Sci -Fi </th><th style=\"text-align: center;\"> Thri ller </th></tr>\\n</thead>\\n<tbody>\\n<tr><td style=\"text-align: center;\">    6874    </td><td style=\"text-align: center;\"> 2003 </td><td style=\"text-align: center;\">    4.0     </td><td style=\"text-align: center;\">    1    </td><td style=\"text-align: center;\">     0      </td><td style=\"text-align: center;\">     0      </td><td style=\"text-align: center;\">     0     </td><td style=\"text-align: center;\">    0    </td><td style=\"text-align: center;\">   1   </td><td style=\"text-align: center;\">      0       </td><td style=\"text-align: center;\">   0   </td><td style=\"text-align: center;\">    0     </td><td style=\"text-align: center;\">    0    </td><td style=\"text-align: center;\">    0     </td><td style=\"text-align: center;\">    0     </td><td style=\"text-align: center;\">    0    </td><td style=\"text-align: center;\">     1     </td></tr>\\n<tr><td style=\"text-align: center;\">    8798    </td><td style=\"text-align: center;\"> 2004 </td><td style=\"text-align: center;\">    3.8     </td><td style=\"text-align: center;\">    1    </td><td style=\"text-align: center;\">     0      </td><td style=\"text-align: center;\">     0      </td><td style=\"text-align: center;\">     0     </td><td style=\"text-align: center;\">    0    </td><td style=\"text-align: center;\">   1   </td><td style=\"text-align: center;\">      0       </td><td style=\"text-align: center;\">   1   </td><td style=\"text-align: center;\">    0     </td><td style=\"text-align: center;\">    0    </td><td style=\"text-align: center;\">    0     </td><td style=\"text-align: center;\">    0     </td><td style=\"text-align: center;\">    0    </td><td style=\"text-align: center;\">     1     </td></tr>\\n<tr><td style=\"text-align: center;\">   46970    </td><td style=\"text-align: center;\"> 2006 </td><td style=\"text-align: center;\">    3.2     </td><td style=\"text-align: center;\">    1    </td><td style=\"text-align: center;\">     0      </td><td style=\"text-align: center;\">     0      </td><td style=\"text-align: center;\">     0     </td><td style=\"text-align: center;\">    1    </td><td style=\"text-align: center;\">   0   </td><td style=\"text-align: center;\">      0       </td><td style=\"text-align: center;\">   0   </td><td style=\"text-align: center;\">    0     </td><td style=\"text-align: center;\">    0    </td><td style=\"text-align: center;\">    0     </td><td style=\"text-align: center;\">    0     </td><td style=\"text-align: center;\">    0    </td><td style=\"text-align: center;\">     0     </td></tr>\\n<tr><td style=\"text-align: center;\">   48516    </td><td style=\"text-align: center;\"> 2006 </td><td style=\"text-align: center;\">    4.3     </td><td style=\"text-align: center;\">    0    </td><td style=\"text-align: center;\">     0      </td><td style=\"text-align: center;\">     0      </td><td style=\"text-align: center;\">     0     </td><td style=\"text-align: center;\">    0    </td><td style=\"text-align: center;\">   1   </td><td style=\"text-align: center;\">      0       </td><td style=\"text-align: center;\">   1   </td><td style=\"text-align: center;\">    0     </td><td style=\"text-align: center;\">    0    </td><td style=\"text-align: center;\">    0     </td><td style=\"text-align: center;\">    0     </td><td style=\"text-align: center;\">    0    </td><td style=\"text-align: center;\">     1     </td></tr>\\n<tr><td style=\"text-align: center;\">   58559    </td><td style=\"text-align: center;\"> 2008 </td><td style=\"text-align: center;\">    4.2     </td><td style=\"text-align: center;\">    1    </td><td style=\"text-align: center;\">     0      </td><td style=\"text-align: center;\">     0      </td><td style=\"text-align: center;\">     0     </td><td style=\"text-align: center;\">    0    </td><td style=\"text-align: center;\">   1   </td><td style=\"text-align: center;\">      0       </td><td style=\"text-align: center;\">   1   </td><td style=\"text-align: center;\">    0     </td><td style=\"text-align: center;\">    0    </td><td style=\"text-align: center;\">    0     </td><td style=\"text-align: center;\">    0     </td><td style=\"text-align: center;\">    0    </td><td style=\"text-align: center;\">     0     </td></tr>\\n</tbody>\\n</table>'"
      ]
     },
     "execution_count": 171,
     "metadata": {},
     "output_type": "execute_result"
    }
   ],
   "source": [
    "pprint_train(item_train, item_features, ivs, i_s, maxcount=5, user=False)"
   ]
  },
  {
   "cell_type": "markdown",
   "metadata": {},
   "source": [
    "Above, the movie array contains the year the film was released, the average rating and an indicator for each potential genre. The indicator is one for each genre that applies to the movie. The movie id is not used in training but is useful when interpreting the data."
   ]
  },
  {
   "cell_type": "code",
   "execution_count": 172,
   "metadata": {},
   "outputs": [
    {
     "name": "stdout",
     "output_type": "stream",
     "text": [
      "y_train[:5]: [4.  3.5 4.  4.  4.5]\n"
     ]
    }
   ],
   "source": [
    "print(f\"y_train[:5]: {y_train[:5]}\")"
   ]
  },
  {
   "cell_type": "markdown",
   "metadata": {},
   "source": [
    "Above, we can see that movie 6874 is an Action/Crime/Thriller movie released in 2003. User 2 rates action movies as 3.9 on average. MovieLens users gave the movie an average rating of 4. 'y' is 4 indicating user 2 rated movie 6874 as a 4 as well. A single training example consists of a row from both the user and item arrays and a rating from y_train."
   ]
  },
  {
   "cell_type": "markdown",
   "metadata": {},
   "source": [
    "##### Preparing dataset"
   ]
  },
  {
   "cell_type": "code",
   "execution_count": 173,
   "metadata": {},
   "outputs": [
    {
     "name": "stdout",
     "output_type": "stream",
     "text": [
      "True\n",
      "True\n"
     ]
    }
   ],
   "source": [
    "# scale training data\n",
    "item_train_unscaled = item_train\n",
    "user_train_unscaled = user_train\n",
    "y_train_unscaled    = y_train\n",
    "\n",
    "scalerItem = StandardScaler()\n",
    "scalerItem.fit(item_train)\n",
    "item_train = scalerItem.transform(item_train)\n",
    "\n",
    "scalerUser = StandardScaler()\n",
    "scalerUser.fit(user_train)\n",
    "user_train = scalerUser.transform(user_train)\n",
    "\n",
    "scalerTarget = MinMaxScaler((-1, 1))\n",
    "scalerTarget.fit(y_train.reshape(-1, 1))\n",
    "y_train = scalerTarget.transform(y_train.reshape(-1, 1))\n",
    "#ynorm_test = scalerTarget.transform(y_test.reshape(-1, 1))\n",
    "\n",
    "print(np.allclose(item_train_unscaled, scalerItem.inverse_transform(item_train)))\n",
    "print(np.allclose(user_train_unscaled, scalerUser.inverse_transform(user_train)))"
   ]
  },
  {
   "cell_type": "markdown",
   "metadata": {},
   "source": [
    "##### Splitting the data for training & testing"
   ]
  },
  {
   "cell_type": "code",
   "execution_count": 174,
   "metadata": {},
   "outputs": [
    {
     "name": "stdout",
     "output_type": "stream",
     "text": [
      "movie/item training data shape: (40707, 17)\n",
      "movie/item test data shape: (10177, 17)\n"
     ]
    }
   ],
   "source": [
    "item_train, item_test = train_test_split(item_train, train_size=0.80, shuffle=True, random_state=1)\n",
    "user_train, user_test = train_test_split(user_train, train_size=0.80, shuffle=True, random_state=1)\n",
    "y_train, y_test       = train_test_split(y_train,    train_size=0.80, shuffle=True, random_state=1)\n",
    "print(f\"movie/item training data shape: {item_train.shape}\")\n",
    "print(f\"movie/item test data shape: {item_test.shape}\")"
   ]
  },
  {
   "cell_type": "code",
   "execution_count": 175,
   "metadata": {},
   "outputs": [
    {
     "data": {
      "text/html": [
       "<table>\n",
       "<thead>\n",
       "<tr><th style=\"text-align: center;\"> [user id] </th><th style=\"text-align: center;\"> [rating count] </th><th style=\"text-align: center;\"> [rating ave] </th><th style=\"text-align: center;\"> Act ion </th><th style=\"text-align: center;\"> Adve nture </th><th style=\"text-align: center;\"> Anim ation </th><th style=\"text-align: center;\"> Chil dren </th><th style=\"text-align: center;\"> Com edy </th><th style=\"text-align: center;\"> Crime </th><th style=\"text-align: center;\"> Docum entary </th><th style=\"text-align: center;\"> Drama </th><th style=\"text-align: center;\"> Fan tasy </th><th style=\"text-align: center;\"> Hor ror </th><th style=\"text-align: center;\"> Mys tery </th><th style=\"text-align: center;\"> Rom ance </th><th style=\"text-align: center;\"> Sci -Fi </th><th style=\"text-align: center;\"> Thri ller </th></tr>\n",
       "</thead>\n",
       "<tbody>\n",
       "<tr><td style=\"text-align: center;\">     1     </td><td style=\"text-align: center;\">       0        </td><td style=\"text-align: center;\">     -1.0     </td><td style=\"text-align: center;\">  -0.8   </td><td style=\"text-align: center;\">    -0.7    </td><td style=\"text-align: center;\">    0.1     </td><td style=\"text-align: center;\">   -0.0    </td><td style=\"text-align: center;\">  -1.2   </td><td style=\"text-align: center;\"> -0.4  </td><td style=\"text-align: center;\">     0.6      </td><td style=\"text-align: center;\"> -0.5  </td><td style=\"text-align: center;\">   -0.5   </td><td style=\"text-align: center;\">  -0.1   </td><td style=\"text-align: center;\">   -0.6   </td><td style=\"text-align: center;\">   -0.6   </td><td style=\"text-align: center;\">  -0.7   </td><td style=\"text-align: center;\">   -0.7    </td></tr>\n",
       "<tr><td style=\"text-align: center;\">     0     </td><td style=\"text-align: center;\">       1        </td><td style=\"text-align: center;\">     -0.7     </td><td style=\"text-align: center;\">  -0.5   </td><td style=\"text-align: center;\">    -0.7    </td><td style=\"text-align: center;\">    -0.1    </td><td style=\"text-align: center;\">   -0.2    </td><td style=\"text-align: center;\">  -0.6   </td><td style=\"text-align: center;\"> -0.2  </td><td style=\"text-align: center;\">     0.7      </td><td style=\"text-align: center;\"> -0.5  </td><td style=\"text-align: center;\">   -0.8   </td><td style=\"text-align: center;\">   0.1   </td><td style=\"text-align: center;\">   -0.0   </td><td style=\"text-align: center;\">   -0.6   </td><td style=\"text-align: center;\">  -0.5   </td><td style=\"text-align: center;\">   -0.4    </td></tr>\n",
       "<tr><td style=\"text-align: center;\">    -1     </td><td style=\"text-align: center;\">       -1       </td><td style=\"text-align: center;\">     -0.2     </td><td style=\"text-align: center;\">   0.3   </td><td style=\"text-align: center;\">    -0.4    </td><td style=\"text-align: center;\">    0.4     </td><td style=\"text-align: center;\">    0.5    </td><td style=\"text-align: center;\">   1.0   </td><td style=\"text-align: center;\">  0.6  </td><td style=\"text-align: center;\">     -1.2     </td><td style=\"text-align: center;\"> -0.3  </td><td style=\"text-align: center;\">   -0.6   </td><td style=\"text-align: center;\">  -2.3   </td><td style=\"text-align: center;\">   -0.1   </td><td style=\"text-align: center;\">   0.0    </td><td style=\"text-align: center;\">   0.4   </td><td style=\"text-align: center;\">   -0.0    </td></tr>\n",
       "<tr><td style=\"text-align: center;\">     0     </td><td style=\"text-align: center;\">       -1       </td><td style=\"text-align: center;\">     0.6      </td><td style=\"text-align: center;\">   0.5   </td><td style=\"text-align: center;\">    0.5     </td><td style=\"text-align: center;\">    0.2     </td><td style=\"text-align: center;\">    0.6    </td><td style=\"text-align: center;\">  -0.1   </td><td style=\"text-align: center;\">  0.5  </td><td style=\"text-align: center;\">     -1.2     </td><td style=\"text-align: center;\">  0.9  </td><td style=\"text-align: center;\">   1.2    </td><td style=\"text-align: center;\">  -2.3   </td><td style=\"text-align: center;\">   -0.1   </td><td style=\"text-align: center;\">   0.0    </td><td style=\"text-align: center;\">   0.2   </td><td style=\"text-align: center;\">    0.3    </td></tr>\n",
       "<tr><td style=\"text-align: center;\">    -1     </td><td style=\"text-align: center;\">       0        </td><td style=\"text-align: center;\">     0.7      </td><td style=\"text-align: center;\">   0.6   </td><td style=\"text-align: center;\">    0.5     </td><td style=\"text-align: center;\">    0.3     </td><td style=\"text-align: center;\">    0.5    </td><td style=\"text-align: center;\">   0.4   </td><td style=\"text-align: center;\">  0.6  </td><td style=\"text-align: center;\">     1.0      </td><td style=\"text-align: center;\">  0.6  </td><td style=\"text-align: center;\">   0.3    </td><td style=\"text-align: center;\">   0.8   </td><td style=\"text-align: center;\">   0.8    </td><td style=\"text-align: center;\">   0.4    </td><td style=\"text-align: center;\">   0.7   </td><td style=\"text-align: center;\">    0.7    </td></tr>\n",
       "</tbody>\n",
       "</table>"
      ],
      "text/plain": [
       "'<table>\\n<thead>\\n<tr><th style=\"text-align: center;\"> [user id] </th><th style=\"text-align: center;\"> [rating count] </th><th style=\"text-align: center;\"> [rating ave] </th><th style=\"text-align: center;\"> Act ion </th><th style=\"text-align: center;\"> Adve nture </th><th style=\"text-align: center;\"> Anim ation </th><th style=\"text-align: center;\"> Chil dren </th><th style=\"text-align: center;\"> Com edy </th><th style=\"text-align: center;\"> Crime </th><th style=\"text-align: center;\"> Docum entary </th><th style=\"text-align: center;\"> Drama </th><th style=\"text-align: center;\"> Fan tasy </th><th style=\"text-align: center;\"> Hor ror </th><th style=\"text-align: center;\"> Mys tery </th><th style=\"text-align: center;\"> Rom ance </th><th style=\"text-align: center;\"> Sci -Fi </th><th style=\"text-align: center;\"> Thri ller </th></tr>\\n</thead>\\n<tbody>\\n<tr><td style=\"text-align: center;\">     1     </td><td style=\"text-align: center;\">       0        </td><td style=\"text-align: center;\">     -1.0     </td><td style=\"text-align: center;\">  -0.8   </td><td style=\"text-align: center;\">    -0.7    </td><td style=\"text-align: center;\">    0.1     </td><td style=\"text-align: center;\">   -0.0    </td><td style=\"text-align: center;\">  -1.2   </td><td style=\"text-align: center;\"> -0.4  </td><td style=\"text-align: center;\">     0.6      </td><td style=\"text-align: center;\"> -0.5  </td><td style=\"text-align: center;\">   -0.5   </td><td style=\"text-align: center;\">  -0.1   </td><td style=\"text-align: center;\">   -0.6   </td><td style=\"text-align: center;\">   -0.6   </td><td style=\"text-align: center;\">  -0.7   </td><td style=\"text-align: center;\">   -0.7    </td></tr>\\n<tr><td style=\"text-align: center;\">     0     </td><td style=\"text-align: center;\">       1        </td><td style=\"text-align: center;\">     -0.7     </td><td style=\"text-align: center;\">  -0.5   </td><td style=\"text-align: center;\">    -0.7    </td><td style=\"text-align: center;\">    -0.1    </td><td style=\"text-align: center;\">   -0.2    </td><td style=\"text-align: center;\">  -0.6   </td><td style=\"text-align: center;\"> -0.2  </td><td style=\"text-align: center;\">     0.7      </td><td style=\"text-align: center;\"> -0.5  </td><td style=\"text-align: center;\">   -0.8   </td><td style=\"text-align: center;\">   0.1   </td><td style=\"text-align: center;\">   -0.0   </td><td style=\"text-align: center;\">   -0.6   </td><td style=\"text-align: center;\">  -0.5   </td><td style=\"text-align: center;\">   -0.4    </td></tr>\\n<tr><td style=\"text-align: center;\">    -1     </td><td style=\"text-align: center;\">       -1       </td><td style=\"text-align: center;\">     -0.2     </td><td style=\"text-align: center;\">   0.3   </td><td style=\"text-align: center;\">    -0.4    </td><td style=\"text-align: center;\">    0.4     </td><td style=\"text-align: center;\">    0.5    </td><td style=\"text-align: center;\">   1.0   </td><td style=\"text-align: center;\">  0.6  </td><td style=\"text-align: center;\">     -1.2     </td><td style=\"text-align: center;\"> -0.3  </td><td style=\"text-align: center;\">   -0.6   </td><td style=\"text-align: center;\">  -2.3   </td><td style=\"text-align: center;\">   -0.1   </td><td style=\"text-align: center;\">   0.0    </td><td style=\"text-align: center;\">   0.4   </td><td style=\"text-align: center;\">   -0.0    </td></tr>\\n<tr><td style=\"text-align: center;\">     0     </td><td style=\"text-align: center;\">       -1       </td><td style=\"text-align: center;\">     0.6      </td><td style=\"text-align: center;\">   0.5   </td><td style=\"text-align: center;\">    0.5     </td><td style=\"text-align: center;\">    0.2     </td><td style=\"text-align: center;\">    0.6    </td><td style=\"text-align: center;\">  -0.1   </td><td style=\"text-align: center;\">  0.5  </td><td style=\"text-align: center;\">     -1.2     </td><td style=\"text-align: center;\">  0.9  </td><td style=\"text-align: center;\">   1.2    </td><td style=\"text-align: center;\">  -2.3   </td><td style=\"text-align: center;\">   -0.1   </td><td style=\"text-align: center;\">   0.0    </td><td style=\"text-align: center;\">   0.2   </td><td style=\"text-align: center;\">    0.3    </td></tr>\\n<tr><td style=\"text-align: center;\">    -1     </td><td style=\"text-align: center;\">       0        </td><td style=\"text-align: center;\">     0.7      </td><td style=\"text-align: center;\">   0.6   </td><td style=\"text-align: center;\">    0.5     </td><td style=\"text-align: center;\">    0.3     </td><td style=\"text-align: center;\">    0.5    </td><td style=\"text-align: center;\">   0.4   </td><td style=\"text-align: center;\">  0.6  </td><td style=\"text-align: center;\">     1.0      </td><td style=\"text-align: center;\">  0.6  </td><td style=\"text-align: center;\">   0.3    </td><td style=\"text-align: center;\">   0.8   </td><td style=\"text-align: center;\">   0.8    </td><td style=\"text-align: center;\">   0.4    </td><td style=\"text-align: center;\">   0.7   </td><td style=\"text-align: center;\">    0.7    </td></tr>\\n</tbody>\\n</table>'"
      ]
     },
     "execution_count": 175,
     "metadata": {},
     "output_type": "execute_result"
    }
   ],
   "source": [
    "pprint_train(user_train, user_features, uvs, u_s, maxcount=5)"
   ]
  },
  {
   "cell_type": "markdown",
   "metadata": {},
   "source": [
    "##### Neural Network for content-based filtering"
   ]
  },
  {
   "cell_type": "markdown",
   "metadata": {},
   "source": [
    "The first layer is a dense layer with 256 units and a relu activation. \\\n",
    "The second layer is a dense layer with 128 units and a relu activation. \\\n",
    "The third layer is a dense layer with num_outputs units and a linear or no activation."
   ]
  },
  {
   "cell_type": "code",
   "execution_count": 176,
   "metadata": {},
   "outputs": [],
   "source": [
    "class L2Normalization(tf.keras.layers.Layer):\n",
    "  def call(inputs, axis=-1):\n",
    "    return tf.linalg.l2_normalize(inputs, axis)  # Normalize along last dimension"
   ]
  },
  {
   "cell_type": "code",
   "execution_count": 177,
   "metadata": {},
   "outputs": [
    {
     "data": {
      "text/html": [
       "<pre style=\"white-space:pre;overflow-x:auto;line-height:normal;font-family:Menlo,'DejaVu Sans Mono',consolas,'Courier New',monospace\"><span style=\"font-weight: bold\">Model: \"functional_101\"</span>\n",
       "</pre>\n"
      ],
      "text/plain": [
       "\u001b[1mModel: \"functional_101\"\u001b[0m\n"
      ]
     },
     "metadata": {},
     "output_type": "display_data"
    },
    {
     "data": {
      "text/html": [
       "<pre style=\"white-space:pre;overflow-x:auto;line-height:normal;font-family:Menlo,'DejaVu Sans Mono',consolas,'Courier New',monospace\">┏━━━━━━━━━━━━━━━━━━━━━┳━━━━━━━━━━━━━━━━━━━┳━━━━━━━━━━━━┳━━━━━━━━━━━━━━━━━━━┓\n",
       "┃<span style=\"font-weight: bold\"> Layer (type)        </span>┃<span style=\"font-weight: bold\"> Output Shape      </span>┃<span style=\"font-weight: bold\">    Param # </span>┃<span style=\"font-weight: bold\"> Connected to      </span>┃\n",
       "┡━━━━━━━━━━━━━━━━━━━━━╇━━━━━━━━━━━━━━━━━━━╇━━━━━━━━━━━━╇━━━━━━━━━━━━━━━━━━━┩\n",
       "│ input_layer_152     │ (<span style=\"color: #00d7ff; text-decoration-color: #00d7ff\">None</span>, <span style=\"color: #00af00; text-decoration-color: #00af00\">14</span>)        │          <span style=\"color: #00af00; text-decoration-color: #00af00\">0</span> │ -                 │\n",
       "│ (<span style=\"color: #0087ff; text-decoration-color: #0087ff\">InputLayer</span>)        │                   │            │                   │\n",
       "├─────────────────────┼───────────────────┼────────────┼───────────────────┤\n",
       "│ input_layer_154     │ (<span style=\"color: #00d7ff; text-decoration-color: #00d7ff\">None</span>, <span style=\"color: #00af00; text-decoration-color: #00af00\">16</span>)        │          <span style=\"color: #00af00; text-decoration-color: #00af00\">0</span> │ -                 │\n",
       "│ (<span style=\"color: #0087ff; text-decoration-color: #0087ff\">InputLayer</span>)        │                   │            │                   │\n",
       "├─────────────────────┼───────────────────┼────────────┼───────────────────┤\n",
       "│ sequential_98       │ (<span style=\"color: #00d7ff; text-decoration-color: #00d7ff\">None</span>, <span style=\"color: #00af00; text-decoration-color: #00af00\">32</span>)        │     <span style=\"color: #00af00; text-decoration-color: #00af00\">40,864</span> │ input_layer_152[<span style=\"color: #00af00; text-decoration-color: #00af00\">…</span> │\n",
       "│ (<span style=\"color: #0087ff; text-decoration-color: #0087ff\">Sequential</span>)        │                   │            │                   │\n",
       "├─────────────────────┼───────────────────┼────────────┼───────────────────┤\n",
       "│ sequential_99       │ (<span style=\"color: #00d7ff; text-decoration-color: #00d7ff\">None</span>, <span style=\"color: #00af00; text-decoration-color: #00af00\">32</span>)        │     <span style=\"color: #00af00; text-decoration-color: #00af00\">41,376</span> │ input_layer_154[<span style=\"color: #00af00; text-decoration-color: #00af00\">…</span> │\n",
       "│ (<span style=\"color: #0087ff; text-decoration-color: #0087ff\">Sequential</span>)        │                   │            │                   │\n",
       "├─────────────────────┼───────────────────┼────────────┼───────────────────┤\n",
       "│ layer_normalizatio… │ (<span style=\"color: #00d7ff; text-decoration-color: #00d7ff\">None</span>, <span style=\"color: #00af00; text-decoration-color: #00af00\">32</span>)        │         <span style=\"color: #00af00; text-decoration-color: #00af00\">64</span> │ sequential_98[<span style=\"color: #00af00; text-decoration-color: #00af00\">0</span>]… │\n",
       "│ (<span style=\"color: #0087ff; text-decoration-color: #0087ff\">LayerNormalizatio…</span> │                   │            │                   │\n",
       "├─────────────────────┼───────────────────┼────────────┼───────────────────┤\n",
       "│ layer_normalizatio… │ (<span style=\"color: #00d7ff; text-decoration-color: #00d7ff\">None</span>, <span style=\"color: #00af00; text-decoration-color: #00af00\">32</span>)        │         <span style=\"color: #00af00; text-decoration-color: #00af00\">64</span> │ sequential_99[<span style=\"color: #00af00; text-decoration-color: #00af00\">0</span>]… │\n",
       "│ (<span style=\"color: #0087ff; text-decoration-color: #0087ff\">LayerNormalizatio…</span> │                   │            │                   │\n",
       "├─────────────────────┼───────────────────┼────────────┼───────────────────┤\n",
       "│ dot_11 (<span style=\"color: #0087ff; text-decoration-color: #0087ff\">Dot</span>)        │ (<span style=\"color: #00d7ff; text-decoration-color: #00d7ff\">None</span>, <span style=\"color: #00af00; text-decoration-color: #00af00\">1</span>)         │          <span style=\"color: #00af00; text-decoration-color: #00af00\">0</span> │ layer_normalizat… │\n",
       "│                     │                   │            │ layer_normalizat… │\n",
       "└─────────────────────┴───────────────────┴────────────┴───────────────────┘\n",
       "</pre>\n"
      ],
      "text/plain": [
       "┏━━━━━━━━━━━━━━━━━━━━━┳━━━━━━━━━━━━━━━━━━━┳━━━━━━━━━━━━┳━━━━━━━━━━━━━━━━━━━┓\n",
       "┃\u001b[1m \u001b[0m\u001b[1mLayer (type)       \u001b[0m\u001b[1m \u001b[0m┃\u001b[1m \u001b[0m\u001b[1mOutput Shape     \u001b[0m\u001b[1m \u001b[0m┃\u001b[1m \u001b[0m\u001b[1m   Param #\u001b[0m\u001b[1m \u001b[0m┃\u001b[1m \u001b[0m\u001b[1mConnected to     \u001b[0m\u001b[1m \u001b[0m┃\n",
       "┡━━━━━━━━━━━━━━━━━━━━━╇━━━━━━━━━━━━━━━━━━━╇━━━━━━━━━━━━╇━━━━━━━━━━━━━━━━━━━┩\n",
       "│ input_layer_152     │ (\u001b[38;5;45mNone\u001b[0m, \u001b[38;5;34m14\u001b[0m)        │          \u001b[38;5;34m0\u001b[0m │ -                 │\n",
       "│ (\u001b[38;5;33mInputLayer\u001b[0m)        │                   │            │                   │\n",
       "├─────────────────────┼───────────────────┼────────────┼───────────────────┤\n",
       "│ input_layer_154     │ (\u001b[38;5;45mNone\u001b[0m, \u001b[38;5;34m16\u001b[0m)        │          \u001b[38;5;34m0\u001b[0m │ -                 │\n",
       "│ (\u001b[38;5;33mInputLayer\u001b[0m)        │                   │            │                   │\n",
       "├─────────────────────┼───────────────────┼────────────┼───────────────────┤\n",
       "│ sequential_98       │ (\u001b[38;5;45mNone\u001b[0m, \u001b[38;5;34m32\u001b[0m)        │     \u001b[38;5;34m40,864\u001b[0m │ input_layer_152[\u001b[38;5;34m…\u001b[0m │\n",
       "│ (\u001b[38;5;33mSequential\u001b[0m)        │                   │            │                   │\n",
       "├─────────────────────┼───────────────────┼────────────┼───────────────────┤\n",
       "│ sequential_99       │ (\u001b[38;5;45mNone\u001b[0m, \u001b[38;5;34m32\u001b[0m)        │     \u001b[38;5;34m41,376\u001b[0m │ input_layer_154[\u001b[38;5;34m…\u001b[0m │\n",
       "│ (\u001b[38;5;33mSequential\u001b[0m)        │                   │            │                   │\n",
       "├─────────────────────┼───────────────────┼────────────┼───────────────────┤\n",
       "│ layer_normalizatio… │ (\u001b[38;5;45mNone\u001b[0m, \u001b[38;5;34m32\u001b[0m)        │         \u001b[38;5;34m64\u001b[0m │ sequential_98[\u001b[38;5;34m0\u001b[0m]… │\n",
       "│ (\u001b[38;5;33mLayerNormalizatio…\u001b[0m │                   │            │                   │\n",
       "├─────────────────────┼───────────────────┼────────────┼───────────────────┤\n",
       "│ layer_normalizatio… │ (\u001b[38;5;45mNone\u001b[0m, \u001b[38;5;34m32\u001b[0m)        │         \u001b[38;5;34m64\u001b[0m │ sequential_99[\u001b[38;5;34m0\u001b[0m]… │\n",
       "│ (\u001b[38;5;33mLayerNormalizatio…\u001b[0m │                   │            │                   │\n",
       "├─────────────────────┼───────────────────┼────────────┼───────────────────┤\n",
       "│ dot_11 (\u001b[38;5;33mDot\u001b[0m)        │ (\u001b[38;5;45mNone\u001b[0m, \u001b[38;5;34m1\u001b[0m)         │          \u001b[38;5;34m0\u001b[0m │ layer_normalizat… │\n",
       "│                     │                   │            │ layer_normalizat… │\n",
       "└─────────────────────┴───────────────────┴────────────┴───────────────────┘\n"
      ]
     },
     "metadata": {},
     "output_type": "display_data"
    },
    {
     "data": {
      "text/html": [
       "<pre style=\"white-space:pre;overflow-x:auto;line-height:normal;font-family:Menlo,'DejaVu Sans Mono',consolas,'Courier New',monospace\"><span style=\"font-weight: bold\"> Total params: </span><span style=\"color: #00af00; text-decoration-color: #00af00\">82,368</span> (321.75 KB)\n",
       "</pre>\n"
      ],
      "text/plain": [
       "\u001b[1m Total params: \u001b[0m\u001b[38;5;34m82,368\u001b[0m (321.75 KB)\n"
      ]
     },
     "metadata": {},
     "output_type": "display_data"
    },
    {
     "data": {
      "text/html": [
       "<pre style=\"white-space:pre;overflow-x:auto;line-height:normal;font-family:Menlo,'DejaVu Sans Mono',consolas,'Courier New',monospace\"><span style=\"font-weight: bold\"> Trainable params: </span><span style=\"color: #00af00; text-decoration-color: #00af00\">82,368</span> (321.75 KB)\n",
       "</pre>\n"
      ],
      "text/plain": [
       "\u001b[1m Trainable params: \u001b[0m\u001b[38;5;34m82,368\u001b[0m (321.75 KB)\n"
      ]
     },
     "metadata": {},
     "output_type": "display_data"
    },
    {
     "data": {
      "text/html": [
       "<pre style=\"white-space:pre;overflow-x:auto;line-height:normal;font-family:Menlo,'DejaVu Sans Mono',consolas,'Courier New',monospace\"><span style=\"font-weight: bold\"> Non-trainable params: </span><span style=\"color: #00af00; text-decoration-color: #00af00\">0</span> (0.00 B)\n",
       "</pre>\n"
      ],
      "text/plain": [
       "\u001b[1m Non-trainable params: \u001b[0m\u001b[38;5;34m0\u001b[0m (0.00 B)\n"
      ]
     },
     "metadata": {},
     "output_type": "display_data"
    }
   ],
   "source": [
    "\n",
    "num_outputs = 32\n",
    "tf.random.set_seed(1)\n",
    "user_NN = tf.keras.models.Sequential([\n",
    "    tf.keras.layers.Dense(units=256, activation='relu', name=\"L1\"),\n",
    "    tf.keras.layers.Dense(units=128, activation='relu', name=\"L2\"),\n",
    "    tf.keras.layers.Dense(units=num_outputs ,activation='linear', name=\"L3\"),\n",
    "])\n",
    "\n",
    "item_NN = tf.keras.models.Sequential([\n",
    "    tf.keras.layers.Dense(units=256, activation='relu', name=\"L1\"),\n",
    "    tf.keras.layers.Dense(units=128, activation='relu', name=\"L2\"),\n",
    "    tf.keras.layers.Dense(units= num_outputs,activation='linear', name=\"L3\"),\n",
    "])\n",
    "\n",
    "# create the user input and point to the base network\n",
    "input_user = tf.keras.layers.Input(shape=(num_user_features,))\n",
    "vu = user_NN(input_user)\n",
    "#vu = tf.linalg.l2_normalize(vu, axis=1)\n",
    "vu = tf.keras.layers.LayerNormalization(axis=1)(vu)\n",
    "\n",
    "# create the item input and point to the base network\n",
    "input_item = tf.keras.layers.Input(shape=(num_item_features,))\n",
    "vm = item_NN(input_item)\n",
    "#vm = tf.linalg.l2_normalize(vm, axis=1)\n",
    "vm = tf.keras.layers.LayerNormalization(axis=1)(vm)\n",
    "\n",
    "# compute the dot product of the two vectors vu and vm\n",
    "output = tf.keras.layers.Dot(axes=1)([vu, vm])\n",
    "\n",
    "# specify the inputs and output of the model\n",
    "model = tf.keras.Model([input_user, input_item], output)\n",
    "\n",
    "model.summary()"
   ]
  },
  {
   "cell_type": "markdown",
   "metadata": {},
   "source": [
    "Will use squared mean loss cost function and ADAM optimizer"
   ]
  },
  {
   "cell_type": "code",
   "execution_count": 178,
   "metadata": {},
   "outputs": [],
   "source": [
    "tf.random.set_seed(1)\n",
    "cost_fn = tf.keras.losses.MeanSquaredError()\n",
    "opt = tf.keras.optimizers.Adam(learning_rate=0.01)\n",
    "model.compile(optimizer=opt,\n",
    "              loss=cost_fn)"
   ]
  },
  {
   "cell_type": "code",
   "execution_count": 179,
   "metadata": {},
   "outputs": [
    {
     "name": "stdout",
     "output_type": "stream",
     "text": [
      "Epoch 1/30\n",
      "\u001b[1m1273/1273\u001b[0m \u001b[32m━━━━━━━━━━━━━━━━━━━━\u001b[0m\u001b[37m\u001b[0m \u001b[1m6s\u001b[0m 3ms/step - loss: 3.4395\n",
      "Epoch 2/30\n",
      "\u001b[1m1273/1273\u001b[0m \u001b[32m━━━━━━━━━━━━━━━━━━━━\u001b[0m\u001b[37m\u001b[0m \u001b[1m4s\u001b[0m 3ms/step - loss: 0.1341\n",
      "Epoch 3/30\n",
      "\u001b[1m1273/1273\u001b[0m \u001b[32m━━━━━━━━━━━━━━━━━━━━\u001b[0m\u001b[37m\u001b[0m \u001b[1m4s\u001b[0m 3ms/step - loss: 0.1275\n",
      "Epoch 4/30\n",
      "\u001b[1m1273/1273\u001b[0m \u001b[32m━━━━━━━━━━━━━━━━━━━━\u001b[0m\u001b[37m\u001b[0m \u001b[1m4s\u001b[0m 3ms/step - loss: 0.1147\n",
      "Epoch 5/30\n",
      "\u001b[1m1273/1273\u001b[0m \u001b[32m━━━━━━━━━━━━━━━━━━━━\u001b[0m\u001b[37m\u001b[0m \u001b[1m4s\u001b[0m 3ms/step - loss: 0.1067\n",
      "Epoch 6/30\n",
      "\u001b[1m1273/1273\u001b[0m \u001b[32m━━━━━━━━━━━━━━━━━━━━\u001b[0m\u001b[37m\u001b[0m \u001b[1m4s\u001b[0m 3ms/step - loss: 0.1028\n",
      "Epoch 7/30\n",
      "\u001b[1m1273/1273\u001b[0m \u001b[32m━━━━━━━━━━━━━━━━━━━━\u001b[0m\u001b[37m\u001b[0m \u001b[1m4s\u001b[0m 3ms/step - loss: 0.1018\n",
      "Epoch 8/30\n",
      "\u001b[1m1273/1273\u001b[0m \u001b[32m━━━━━━━━━━━━━━━━━━━━\u001b[0m\u001b[37m\u001b[0m \u001b[1m4s\u001b[0m 3ms/step - loss: 0.1008\n",
      "Epoch 9/30\n",
      "\u001b[1m1273/1273\u001b[0m \u001b[32m━━━━━━━━━━━━━━━━━━━━\u001b[0m\u001b[37m\u001b[0m \u001b[1m4s\u001b[0m 3ms/step - loss: 0.0995\n",
      "Epoch 10/30\n",
      "\u001b[1m1273/1273\u001b[0m \u001b[32m━━━━━━━━━━━━━━━━━━━━\u001b[0m\u001b[37m\u001b[0m \u001b[1m4s\u001b[0m 3ms/step - loss: 0.0976\n",
      "Epoch 11/30\n",
      "\u001b[1m1273/1273\u001b[0m \u001b[32m━━━━━━━━━━━━━━━━━━━━\u001b[0m\u001b[37m\u001b[0m \u001b[1m4s\u001b[0m 3ms/step - loss: 0.0955\n",
      "Epoch 12/30\n",
      "\u001b[1m1273/1273\u001b[0m \u001b[32m━━━━━━━━━━━━━━━━━━━━\u001b[0m\u001b[37m\u001b[0m \u001b[1m4s\u001b[0m 3ms/step - loss: 0.0932\n",
      "Epoch 13/30\n",
      "\u001b[1m1273/1273\u001b[0m \u001b[32m━━━━━━━━━━━━━━━━━━━━\u001b[0m\u001b[37m\u001b[0m \u001b[1m4s\u001b[0m 3ms/step - loss: 0.0907\n",
      "Epoch 14/30\n",
      "\u001b[1m1273/1273\u001b[0m \u001b[32m━━━━━━━━━━━━━━━━━━━━\u001b[0m\u001b[37m\u001b[0m \u001b[1m4s\u001b[0m 3ms/step - loss: 0.0888\n",
      "Epoch 15/30\n",
      "\u001b[1m1273/1273\u001b[0m \u001b[32m━━━━━━━━━━━━━━━━━━━━\u001b[0m\u001b[37m\u001b[0m \u001b[1m4s\u001b[0m 3ms/step - loss: 0.0862\n",
      "Epoch 16/30\n",
      "\u001b[1m1273/1273\u001b[0m \u001b[32m━━━━━━━━━━━━━━━━━━━━\u001b[0m\u001b[37m\u001b[0m \u001b[1m4s\u001b[0m 3ms/step - loss: 0.0840\n",
      "Epoch 17/30\n",
      "\u001b[1m1273/1273\u001b[0m \u001b[32m━━━━━━━━━━━━━━━━━━━━\u001b[0m\u001b[37m\u001b[0m \u001b[1m4s\u001b[0m 3ms/step - loss: 0.0821\n",
      "Epoch 18/30\n",
      "\u001b[1m1273/1273\u001b[0m \u001b[32m━━━━━━━━━━━━━━━━━━━━\u001b[0m\u001b[37m\u001b[0m \u001b[1m4s\u001b[0m 3ms/step - loss: 0.0803\n",
      "Epoch 19/30\n",
      "\u001b[1m1273/1273\u001b[0m \u001b[32m━━━━━━━━━━━━━━━━━━━━\u001b[0m\u001b[37m\u001b[0m \u001b[1m4s\u001b[0m 3ms/step - loss: 0.0786\n",
      "Epoch 20/30\n",
      "\u001b[1m1273/1273\u001b[0m \u001b[32m━━━━━━━━━━━━━━━━━━━━\u001b[0m\u001b[37m\u001b[0m \u001b[1m4s\u001b[0m 3ms/step - loss: 0.0770\n",
      "Epoch 21/30\n",
      "\u001b[1m1273/1273\u001b[0m \u001b[32m━━━━━━━━━━━━━━━━━━━━\u001b[0m\u001b[37m\u001b[0m \u001b[1m4s\u001b[0m 3ms/step - loss: 0.0755\n",
      "Epoch 22/30\n",
      "\u001b[1m1273/1273\u001b[0m \u001b[32m━━━━━━━━━━━━━━━━━━━━\u001b[0m\u001b[37m\u001b[0m \u001b[1m4s\u001b[0m 4ms/step - loss: 0.0740\n",
      "Epoch 23/30\n",
      "\u001b[1m1273/1273\u001b[0m \u001b[32m━━━━━━━━━━━━━━━━━━━━\u001b[0m\u001b[37m\u001b[0m \u001b[1m4s\u001b[0m 3ms/step - loss: 0.0726\n",
      "Epoch 24/30\n",
      "\u001b[1m1273/1273\u001b[0m \u001b[32m━━━━━━━━━━━━━━━━━━━━\u001b[0m\u001b[37m\u001b[0m \u001b[1m7s\u001b[0m 5ms/step - loss: 0.0711\n",
      "Epoch 25/30\n",
      "\u001b[1m1273/1273\u001b[0m \u001b[32m━━━━━━━━━━━━━━━━━━━━\u001b[0m\u001b[37m\u001b[0m \u001b[1m11s\u001b[0m 5ms/step - loss: 0.0698\n",
      "Epoch 26/30\n",
      "\u001b[1m1273/1273\u001b[0m \u001b[32m━━━━━━━━━━━━━━━━━━━━\u001b[0m\u001b[37m\u001b[0m \u001b[1m7s\u001b[0m 5ms/step - loss: 0.0685\n",
      "Epoch 27/30\n",
      "\u001b[1m1273/1273\u001b[0m \u001b[32m━━━━━━━━━━━━━━━━━━━━\u001b[0m\u001b[37m\u001b[0m \u001b[1m7s\u001b[0m 5ms/step - loss: 0.0672\n",
      "Epoch 28/30\n",
      "\u001b[1m1273/1273\u001b[0m \u001b[32m━━━━━━━━━━━━━━━━━━━━\u001b[0m\u001b[37m\u001b[0m \u001b[1m7s\u001b[0m 5ms/step - loss: 0.0660\n",
      "Epoch 29/30\n",
      "\u001b[1m1273/1273\u001b[0m \u001b[32m━━━━━━━━━━━━━━━━━━━━\u001b[0m\u001b[37m\u001b[0m \u001b[1m7s\u001b[0m 5ms/step - loss: 0.0648\n",
      "Epoch 30/30\n",
      "\u001b[1m1273/1273\u001b[0m \u001b[32m━━━━━━━━━━━━━━━━━━━━\u001b[0m\u001b[37m\u001b[0m \u001b[1m7s\u001b[0m 5ms/step - loss: 0.0639\n"
     ]
    },
    {
     "data": {
      "text/plain": [
       "<keras.src.callbacks.history.History at 0x1bf36fcfc10>"
      ]
     },
     "execution_count": 179,
     "metadata": {},
     "output_type": "execute_result"
    }
   ],
   "source": [
    "#Model learning using dataset\n",
    "tf.random.set_seed(1)\n",
    "model.fit([user_train[:, u_s:], item_train[:, i_s:]], y_train, epochs=30)"
   ]
  },
  {
   "cell_type": "markdown",
   "metadata": {},
   "source": [
    "##### Evaluate model with test dataset"
   ]
  },
  {
   "cell_type": "code",
   "execution_count": 180,
   "metadata": {},
   "outputs": [
    {
     "name": "stdout",
     "output_type": "stream",
     "text": [
      "\u001b[1m319/319\u001b[0m \u001b[32m━━━━━━━━━━━━━━━━━━━━\u001b[0m\u001b[37m\u001b[0m \u001b[1m1s\u001b[0m 2ms/step - loss: 0.0841\n"
     ]
    },
    {
     "data": {
      "text/plain": [
       "0.08017752319574356"
      ]
     },
     "execution_count": 180,
     "metadata": {},
     "output_type": "execute_result"
    }
   ],
   "source": [
    "model.evaluate([user_test[:, u_s:], item_test[:, i_s:]], y_test)"
   ]
  },
  {
   "cell_type": "markdown",
   "metadata": {},
   "source": [
    "##### Predictions"
   ]
  },
  {
   "cell_type": "markdown",
   "metadata": {},
   "source": [
    "we'll create a new user and have the model suggest movies for that user. After you have tried this on the example user content, feel free to change the user content to match your own preferences and see what the model suggests. Note that ratings are between 0.5 and 5.0, inclusive, in half-step increments."
   ]
  },
  {
   "cell_type": "code",
   "execution_count": 181,
   "metadata": {},
   "outputs": [],
   "source": [
    "new_user_id = 5000\n",
    "new_rating_ave = 0.0\n",
    "new_action = 0.0\n",
    "new_adventure = 5.0\n",
    "new_animation = 0.0\n",
    "new_childrens = 0.0\n",
    "new_comedy = 0.0\n",
    "new_crime = 0.0\n",
    "new_documentary = 0.0\n",
    "new_drama = 0.0\n",
    "new_fantasy = 5.0\n",
    "new_horror = 0.0\n",
    "new_mystery = 0.0\n",
    "new_romance = 0.0\n",
    "new_scifi = 0.0\n",
    "new_thriller = 0.0\n",
    "new_rating_count = 3\n",
    "\n",
    "user_vec = np.array([[new_user_id, new_rating_count, new_rating_ave,\n",
    "                      new_action, new_adventure, new_animation, new_childrens,\n",
    "                      new_comedy, new_crime, new_documentary,\n",
    "                      new_drama, new_fantasy, new_horror, new_mystery,\n",
    "                      new_romance, new_scifi, new_thriller]])"
   ]
  },
  {
   "cell_type": "markdown",
   "metadata": {},
   "source": [
    "we'll use a set of movie/item vectors, `item_vecs` that have a vector for each movie in the training/test set. This is matched with the new user vector above and the scaled vectors are used to predict ratings for all the movies."
   ]
  },
  {
   "cell_type": "code",
   "execution_count": 182,
   "metadata": {},
   "outputs": [
    {
     "name": "stdout",
     "output_type": "stream",
     "text": [
      "\u001b[1m27/27\u001b[0m \u001b[32m━━━━━━━━━━━━━━━━━━━━\u001b[0m\u001b[37m\u001b[0m \u001b[1m0s\u001b[0m 6ms/step\n"
     ]
    },
    {
     "data": {
      "text/html": [
       "<table>\n",
       "<thead>\n",
       "<tr><th style=\"text-align: right;\">  y_p</th><th style=\"text-align: right;\">  movie id</th><th style=\"text-align: right;\">  rating ave</th><th>title                                              </th><th>genres                          </th></tr>\n",
       "</thead>\n",
       "<tbody>\n",
       "<tr><td style=\"text-align: right;\">  5.2</td><td style=\"text-align: right;\">      8368</td><td style=\"text-align: right;\">         3.9</td><td>Harry Potter and the Prisoner of Azkaban (2004)    </td><td>Adventure|Fantasy               </td></tr>\n",
       "<tr><td style=\"text-align: right;\">  5.2</td><td style=\"text-align: right;\">     36401</td><td style=\"text-align: right;\">         2.6</td><td>Brothers Grimm, The (2005)                         </td><td>Comedy|Fantasy|Horror|Thriller  </td></tr>\n",
       "<tr><td style=\"text-align: right;\">  5.2</td><td style=\"text-align: right;\">      6958</td><td style=\"text-align: right;\">         2.5</td><td>Haunted Mansion, The (2003)                        </td><td>Children|Comedy|Fantasy|Horror  </td></tr>\n",
       "<tr><td style=\"text-align: right;\">  5.2</td><td style=\"text-align: right;\">      4232</td><td style=\"text-align: right;\">         2.9</td><td>Spy Kids (2001)                                    </td><td>Action|Adventure|Children|Comedy</td></tr>\n",
       "<tr><td style=\"text-align: right;\">  5.1</td><td style=\"text-align: right;\">     98809</td><td style=\"text-align: right;\">         3.8</td><td>Hobbit: An Unexpected Journey, The (2012)          </td><td>Adventure|Fantasy               </td></tr>\n",
       "<tr><td style=\"text-align: right;\">  5.1</td><td style=\"text-align: right;\">      5952</td><td style=\"text-align: right;\">         4  </td><td>Lord of the Rings: The Two Towers, The (2002)      </td><td>Adventure|Fantasy               </td></tr>\n",
       "<tr><td style=\"text-align: right;\">  5.1</td><td style=\"text-align: right;\">     40815</td><td style=\"text-align: right;\">         3.8</td><td>Harry Potter and the Goblet of Fire (2005)         </td><td>Adventure|Fantasy|Thriller      </td></tr>\n",
       "<tr><td style=\"text-align: right;\">  5  </td><td style=\"text-align: right;\">     81834</td><td style=\"text-align: right;\">         4  </td><td>Harry Potter and the Deathly Hallows: Part 1 (2010)</td><td>Action|Adventure|Fantasy        </td></tr>\n",
       "<tr><td style=\"text-align: right;\">  5  </td><td style=\"text-align: right;\">     90866</td><td style=\"text-align: right;\">         3.8</td><td>Hugo (2011)                                        </td><td>Children|Drama|Mystery          </td></tr>\n",
       "<tr><td style=\"text-align: right;\">  5  </td><td style=\"text-align: right;\">      5816</td><td style=\"text-align: right;\">         3.6</td><td>Harry Potter and the Chamber of Secrets (2002)     </td><td>Adventure|Fantasy               </td></tr>\n",
       "</tbody>\n",
       "</table>"
      ],
      "text/plain": [
       "'<table>\\n<thead>\\n<tr><th style=\"text-align: right;\">  y_p</th><th style=\"text-align: right;\">  movie id</th><th style=\"text-align: right;\">  rating ave</th><th>title                                              </th><th>genres                          </th></tr>\\n</thead>\\n<tbody>\\n<tr><td style=\"text-align: right;\">  5.2</td><td style=\"text-align: right;\">      8368</td><td style=\"text-align: right;\">         3.9</td><td>Harry Potter and the Prisoner of Azkaban (2004)    </td><td>Adventure|Fantasy               </td></tr>\\n<tr><td style=\"text-align: right;\">  5.2</td><td style=\"text-align: right;\">     36401</td><td style=\"text-align: right;\">         2.6</td><td>Brothers Grimm, The (2005)                         </td><td>Comedy|Fantasy|Horror|Thriller  </td></tr>\\n<tr><td style=\"text-align: right;\">  5.2</td><td style=\"text-align: right;\">      6958</td><td style=\"text-align: right;\">         2.5</td><td>Haunted Mansion, The (2003)                        </td><td>Children|Comedy|Fantasy|Horror  </td></tr>\\n<tr><td style=\"text-align: right;\">  5.2</td><td style=\"text-align: right;\">      4232</td><td style=\"text-align: right;\">         2.9</td><td>Spy Kids (2001)                                    </td><td>Action|Adventure|Children|Comedy</td></tr>\\n<tr><td style=\"text-align: right;\">  5.1</td><td style=\"text-align: right;\">     98809</td><td style=\"text-align: right;\">         3.8</td><td>Hobbit: An Unexpected Journey, The (2012)          </td><td>Adventure|Fantasy               </td></tr>\\n<tr><td style=\"text-align: right;\">  5.1</td><td style=\"text-align: right;\">      5952</td><td style=\"text-align: right;\">         4  </td><td>Lord of the Rings: The Two Towers, The (2002)      </td><td>Adventure|Fantasy               </td></tr>\\n<tr><td style=\"text-align: right;\">  5.1</td><td style=\"text-align: right;\">     40815</td><td style=\"text-align: right;\">         3.8</td><td>Harry Potter and the Goblet of Fire (2005)         </td><td>Adventure|Fantasy|Thriller      </td></tr>\\n<tr><td style=\"text-align: right;\">  5  </td><td style=\"text-align: right;\">     81834</td><td style=\"text-align: right;\">         4  </td><td>Harry Potter and the Deathly Hallows: Part 1 (2010)</td><td>Action|Adventure|Fantasy        </td></tr>\\n<tr><td style=\"text-align: right;\">  5  </td><td style=\"text-align: right;\">     90866</td><td style=\"text-align: right;\">         3.8</td><td>Hugo (2011)                                        </td><td>Children|Drama|Mystery          </td></tr>\\n<tr><td style=\"text-align: right;\">  5  </td><td style=\"text-align: right;\">      5816</td><td style=\"text-align: right;\">         3.6</td><td>Harry Potter and the Chamber of Secrets (2002)     </td><td>Adventure|Fantasy               </td></tr>\\n</tbody>\\n</table>'"
      ]
     },
     "execution_count": 182,
     "metadata": {},
     "output_type": "execute_result"
    }
   ],
   "source": [
    "# generate and replicate the user vector to match the number movies in the data set.\n",
    "user_vecs = gen_user_vecs(user_vec,len(item_vecs))\n",
    "\n",
    "# scale our user and item vectors\n",
    "suser_vecs = scalerUser.transform(user_vecs)\n",
    "sitem_vecs = scalerItem.transform(item_vecs)\n",
    "\n",
    "# make a prediction\n",
    "y_p = model.predict([suser_vecs[:, u_s:], sitem_vecs[:, i_s:]])\n",
    "\n",
    "# unscale y prediction \n",
    "y_pu = scalerTarget.inverse_transform(y_p)\n",
    "\n",
    "# sort the results, highest prediction first\n",
    "sorted_index = np.argsort(-y_pu,axis=0).reshape(-1).tolist()  #negate to get largest rating first\n",
    "sorted_ypu   = y_pu[sorted_index]\n",
    "sorted_items = item_vecs[sorted_index]  #using unscaled vectors for display\n",
    "\n",
    "print_pred_movies(sorted_ypu, sorted_items, movie_dict, maxcount = 10)"
   ]
  },
  {
   "cell_type": "markdown",
   "metadata": {},
   "source": [
    "##### Predict for a new user"
   ]
  },
  {
   "cell_type": "code",
   "execution_count": 183,
   "metadata": {},
   "outputs": [
    {
     "name": "stdout",
     "output_type": "stream",
     "text": [
      "\u001b[1m27/27\u001b[0m \u001b[32m━━━━━━━━━━━━━━━━━━━━\u001b[0m\u001b[37m\u001b[0m \u001b[1m0s\u001b[0m 5ms/step\n"
     ]
    },
    {
     "data": {
      "text/html": [
       "<table>\n",
       "<thead>\n",
       "<tr><th style=\"text-align: right;\">  y_p</th><th style=\"text-align: right;\">  y</th><th style=\"text-align: right;\">  user</th><th>user genre ave           </th><th style=\"text-align: right;\">  movie rating ave</th><th style=\"text-align: right;\">  movie id</th><th>title                                             </th><th>genres                                    </th></tr>\n",
       "</thead>\n",
       "<tbody>\n",
       "<tr><td style=\"text-align: right;\">  4.8</td><td style=\"text-align: right;\">5.0</td><td style=\"text-align: right;\">     2</td><td>[4.0]                    </td><td style=\"text-align: right;\">               4.3</td><td style=\"text-align: right;\">     80906</td><td>Inside Job (2010)                                 </td><td>Documentary                               </td></tr>\n",
       "<tr><td style=\"text-align: right;\">  4.5</td><td style=\"text-align: right;\">3.0</td><td style=\"text-align: right;\">     2</td><td>[3.9]                    </td><td style=\"text-align: right;\">               4.0</td><td style=\"text-align: right;\">    109487</td><td>Interstellar (2014)                               </td><td>Sci-Fi                                    </td></tr>\n",
       "<tr><td style=\"text-align: right;\">  4.2</td><td style=\"text-align: right;\">4.5</td><td style=\"text-align: right;\">     2</td><td>[4.0,4.1,4.0]            </td><td style=\"text-align: right;\">               4.2</td><td style=\"text-align: right;\">     58559</td><td>Dark Knight, The (2008)                           </td><td>Action|Crime|Drama                        </td></tr>\n",
       "<tr><td style=\"text-align: right;\">  4.2</td><td style=\"text-align: right;\">3.5</td><td style=\"text-align: right;\">     2</td><td>[4.0,3.9,3.9]            </td><td style=\"text-align: right;\">               3.9</td><td style=\"text-align: right;\">    115713</td><td>Ex Machina (2015)                                 </td><td>Drama|Sci-Fi|Thriller                     </td></tr>\n",
       "<tr><td style=\"text-align: right;\">  4.1</td><td style=\"text-align: right;\">4.0</td><td style=\"text-align: right;\">     2</td><td>[4.0]                    </td><td style=\"text-align: right;\">               4.0</td><td style=\"text-align: right;\">    112552</td><td>Whiplash (2014)                                   </td><td>Drama                                     </td></tr>\n",
       "<tr><td style=\"text-align: right;\">  4.0</td><td style=\"text-align: right;\">3.5</td><td style=\"text-align: right;\">     2</td><td>[4.0,4.0]                </td><td style=\"text-align: right;\">               3.9</td><td style=\"text-align: right;\">     99114</td><td>Django Unchained (2012)                           </td><td>Action|Drama                              </td></tr>\n",
       "<tr><td style=\"text-align: right;\">  4.0</td><td style=\"text-align: right;\">4.5</td><td style=\"text-align: right;\">     2</td><td>[4.0,4.0]                </td><td style=\"text-align: right;\">               4.1</td><td style=\"text-align: right;\">     68157</td><td>Inglourious Basterds (2009)                       </td><td>Action|Drama                              </td></tr>\n",
       "<tr><td style=\"text-align: right;\">  4.0</td><td style=\"text-align: right;\">3.5</td><td style=\"text-align: right;\">     2</td><td>[4.0,4.2,4.1]            </td><td style=\"text-align: right;\">               4.0</td><td style=\"text-align: right;\">     91529</td><td>Dark Knight Rises, The (2012)                     </td><td>Action|Adventure|Crime                    </td></tr>\n",
       "<tr><td style=\"text-align: right;\">  4.0</td><td style=\"text-align: right;\">5.0</td><td style=\"text-align: right;\">     2</td><td>[4.0,4.2,3.9,3.9]        </td><td style=\"text-align: right;\">               3.8</td><td style=\"text-align: right;\">    122882</td><td>Mad Max: Fury Road (2015)                         </td><td>Action|Adventure|Sci-Fi|Thriller          </td></tr>\n",
       "<tr><td style=\"text-align: right;\">  4.0</td><td style=\"text-align: right;\">4.0</td><td style=\"text-align: right;\">     2</td><td>[4.0,4.1,3.9]            </td><td style=\"text-align: right;\">               4.0</td><td style=\"text-align: right;\">      6874</td><td>Kill Bill: Vol. 1 (2003)                          </td><td>Action|Crime|Thriller                     </td></tr>\n",
       "<tr><td style=\"text-align: right;\">  4.0</td><td style=\"text-align: right;\">3.5</td><td style=\"text-align: right;\">     2</td><td>[4.0,4.1,4.0,3.9]        </td><td style=\"text-align: right;\">               3.8</td><td style=\"text-align: right;\">      8798</td><td>Collateral (2004)                                 </td><td>Action|Crime|Drama|Thriller               </td></tr>\n",
       "<tr><td style=\"text-align: right;\">  3.9</td><td style=\"text-align: right;\">4.5</td><td style=\"text-align: right;\">     2</td><td>[4.1,4.0,3.9]            </td><td style=\"text-align: right;\">               4.0</td><td style=\"text-align: right;\">     80489</td><td>Town, The (2010)                                  </td><td>Crime|Drama|Thriller                      </td></tr>\n",
       "<tr><td style=\"text-align: right;\">  3.9</td><td style=\"text-align: right;\">4.0</td><td style=\"text-align: right;\">     2</td><td>[4.1,4.0,3.9]            </td><td style=\"text-align: right;\">               4.3</td><td style=\"text-align: right;\">     48516</td><td>Departed, The (2006)                              </td><td>Crime|Drama|Thriller                      </td></tr>\n",
       "<tr><td style=\"text-align: right;\">  3.8</td><td style=\"text-align: right;\">4.0</td><td style=\"text-align: right;\">     2</td><td>[4.0,4.1,4.0,4.0,3.9,3.9]</td><td style=\"text-align: right;\">               4.1</td><td style=\"text-align: right;\">     79132</td><td>Inception (2010)                                  </td><td>Action|Crime|Drama|Mystery|Sci-Fi|Thriller</td></tr>\n",
       "<tr><td style=\"text-align: right;\">  3.8</td><td style=\"text-align: right;\">5.0</td><td style=\"text-align: right;\">     2</td><td>[4.0]                    </td><td style=\"text-align: right;\">               3.7</td><td style=\"text-align: right;\">     89774</td><td>Warrior (2011)                                    </td><td>Drama                                     </td></tr>\n",
       "<tr><td style=\"text-align: right;\">  3.6</td><td style=\"text-align: right;\">5.0</td><td style=\"text-align: right;\">     2</td><td>[4.0,4.1,4.0]            </td><td style=\"text-align: right;\">               3.9</td><td style=\"text-align: right;\">    106782</td><td>Wolf of Wall Street, The (2013)                   </td><td>Comedy|Crime|Drama                        </td></tr>\n",
       "<tr><td style=\"text-align: right;\">  3.6</td><td style=\"text-align: right;\">5.0</td><td style=\"text-align: right;\">     2</td><td>[4.0]                    </td><td style=\"text-align: right;\">               3.6</td><td style=\"text-align: right;\">     60756</td><td>Step Brothers (2008)                              </td><td>Comedy                                    </td></tr>\n",
       "<tr><td style=\"text-align: right;\">  3.6</td><td style=\"text-align: right;\">4.0</td><td style=\"text-align: right;\">     2</td><td>[4.0,4.0,3.9]            </td><td style=\"text-align: right;\">               4.0</td><td style=\"text-align: right;\">     74458</td><td>Shutter Island (2010)                             </td><td>Drama|Mystery|Thriller                    </td></tr>\n",
       "<tr><td style=\"text-align: right;\">  3.4</td><td style=\"text-align: right;\">4.0</td><td style=\"text-align: right;\">     2</td><td>[4.0,4.0]                </td><td style=\"text-align: right;\">               3.2</td><td style=\"text-align: right;\">     46970</td><td>Talladega Nights: The Ballad of Ricky Bobby (2006)</td><td>Action|Comedy                             </td></tr>\n",
       "<tr><td style=\"text-align: right;\">  3.0</td><td style=\"text-align: right;\">2.5</td><td style=\"text-align: right;\">     2</td><td>[4.0,3.9]                </td><td style=\"text-align: right;\">               3.5</td><td style=\"text-align: right;\">     91658</td><td>Girl with the Dragon Tattoo, The (2011)           </td><td>Drama|Thriller                            </td></tr>\n",
       "<tr><td style=\"text-align: right;\">  3.0</td><td style=\"text-align: right;\">3.0</td><td style=\"text-align: right;\">     2</td><td>[4.0,4.0]                </td><td style=\"text-align: right;\">               4.0</td><td style=\"text-align: right;\">     77455</td><td>Exit Through the Gift Shop (2010)                 </td><td>Comedy|Documentary                        </td></tr>\n",
       "<tr><td style=\"text-align: right;\">  2.6</td><td style=\"text-align: right;\">3.0</td><td style=\"text-align: right;\">     2</td><td>[4.0,4.0,3.0]            </td><td style=\"text-align: right;\">               3.9</td><td style=\"text-align: right;\">     71535</td><td>Zombieland (2009)                                 </td><td>Action|Comedy|Horror                      </td></tr>\n",
       "</tbody>\n",
       "</table>"
      ],
      "text/plain": [
       "'<table>\\n<thead>\\n<tr><th style=\"text-align: right;\">  y_p</th><th style=\"text-align: right;\">  y</th><th style=\"text-align: right;\">  user</th><th>user genre ave           </th><th style=\"text-align: right;\">  movie rating ave</th><th style=\"text-align: right;\">  movie id</th><th>title                                             </th><th>genres                                    </th></tr>\\n</thead>\\n<tbody>\\n<tr><td style=\"text-align: right;\">  4.8</td><td style=\"text-align: right;\">5.0</td><td style=\"text-align: right;\">     2</td><td>[4.0]                    </td><td style=\"text-align: right;\">               4.3</td><td style=\"text-align: right;\">     80906</td><td>Inside Job (2010)                                 </td><td>Documentary                               </td></tr>\\n<tr><td style=\"text-align: right;\">  4.5</td><td style=\"text-align: right;\">3.0</td><td style=\"text-align: right;\">     2</td><td>[3.9]                    </td><td style=\"text-align: right;\">               4.0</td><td style=\"text-align: right;\">    109487</td><td>Interstellar (2014)                               </td><td>Sci-Fi                                    </td></tr>\\n<tr><td style=\"text-align: right;\">  4.2</td><td style=\"text-align: right;\">4.5</td><td style=\"text-align: right;\">     2</td><td>[4.0,4.1,4.0]            </td><td style=\"text-align: right;\">               4.2</td><td style=\"text-align: right;\">     58559</td><td>Dark Knight, The (2008)                           </td><td>Action|Crime|Drama                        </td></tr>\\n<tr><td style=\"text-align: right;\">  4.2</td><td style=\"text-align: right;\">3.5</td><td style=\"text-align: right;\">     2</td><td>[4.0,3.9,3.9]            </td><td style=\"text-align: right;\">               3.9</td><td style=\"text-align: right;\">    115713</td><td>Ex Machina (2015)                                 </td><td>Drama|Sci-Fi|Thriller                     </td></tr>\\n<tr><td style=\"text-align: right;\">  4.1</td><td style=\"text-align: right;\">4.0</td><td style=\"text-align: right;\">     2</td><td>[4.0]                    </td><td style=\"text-align: right;\">               4.0</td><td style=\"text-align: right;\">    112552</td><td>Whiplash (2014)                                   </td><td>Drama                                     </td></tr>\\n<tr><td style=\"text-align: right;\">  4.0</td><td style=\"text-align: right;\">3.5</td><td style=\"text-align: right;\">     2</td><td>[4.0,4.0]                </td><td style=\"text-align: right;\">               3.9</td><td style=\"text-align: right;\">     99114</td><td>Django Unchained (2012)                           </td><td>Action|Drama                              </td></tr>\\n<tr><td style=\"text-align: right;\">  4.0</td><td style=\"text-align: right;\">4.5</td><td style=\"text-align: right;\">     2</td><td>[4.0,4.0]                </td><td style=\"text-align: right;\">               4.1</td><td style=\"text-align: right;\">     68157</td><td>Inglourious Basterds (2009)                       </td><td>Action|Drama                              </td></tr>\\n<tr><td style=\"text-align: right;\">  4.0</td><td style=\"text-align: right;\">3.5</td><td style=\"text-align: right;\">     2</td><td>[4.0,4.2,4.1]            </td><td style=\"text-align: right;\">               4.0</td><td style=\"text-align: right;\">     91529</td><td>Dark Knight Rises, The (2012)                     </td><td>Action|Adventure|Crime                    </td></tr>\\n<tr><td style=\"text-align: right;\">  4.0</td><td style=\"text-align: right;\">5.0</td><td style=\"text-align: right;\">     2</td><td>[4.0,4.2,3.9,3.9]        </td><td style=\"text-align: right;\">               3.8</td><td style=\"text-align: right;\">    122882</td><td>Mad Max: Fury Road (2015)                         </td><td>Action|Adventure|Sci-Fi|Thriller          </td></tr>\\n<tr><td style=\"text-align: right;\">  4.0</td><td style=\"text-align: right;\">4.0</td><td style=\"text-align: right;\">     2</td><td>[4.0,4.1,3.9]            </td><td style=\"text-align: right;\">               4.0</td><td style=\"text-align: right;\">      6874</td><td>Kill Bill: Vol. 1 (2003)                          </td><td>Action|Crime|Thriller                     </td></tr>\\n<tr><td style=\"text-align: right;\">  4.0</td><td style=\"text-align: right;\">3.5</td><td style=\"text-align: right;\">     2</td><td>[4.0,4.1,4.0,3.9]        </td><td style=\"text-align: right;\">               3.8</td><td style=\"text-align: right;\">      8798</td><td>Collateral (2004)                                 </td><td>Action|Crime|Drama|Thriller               </td></tr>\\n<tr><td style=\"text-align: right;\">  3.9</td><td style=\"text-align: right;\">4.5</td><td style=\"text-align: right;\">     2</td><td>[4.1,4.0,3.9]            </td><td style=\"text-align: right;\">               4.0</td><td style=\"text-align: right;\">     80489</td><td>Town, The (2010)                                  </td><td>Crime|Drama|Thriller                      </td></tr>\\n<tr><td style=\"text-align: right;\">  3.9</td><td style=\"text-align: right;\">4.0</td><td style=\"text-align: right;\">     2</td><td>[4.1,4.0,3.9]            </td><td style=\"text-align: right;\">               4.3</td><td style=\"text-align: right;\">     48516</td><td>Departed, The (2006)                              </td><td>Crime|Drama|Thriller                      </td></tr>\\n<tr><td style=\"text-align: right;\">  3.8</td><td style=\"text-align: right;\">4.0</td><td style=\"text-align: right;\">     2</td><td>[4.0,4.1,4.0,4.0,3.9,3.9]</td><td style=\"text-align: right;\">               4.1</td><td style=\"text-align: right;\">     79132</td><td>Inception (2010)                                  </td><td>Action|Crime|Drama|Mystery|Sci-Fi|Thriller</td></tr>\\n<tr><td style=\"text-align: right;\">  3.8</td><td style=\"text-align: right;\">5.0</td><td style=\"text-align: right;\">     2</td><td>[4.0]                    </td><td style=\"text-align: right;\">               3.7</td><td style=\"text-align: right;\">     89774</td><td>Warrior (2011)                                    </td><td>Drama                                     </td></tr>\\n<tr><td style=\"text-align: right;\">  3.6</td><td style=\"text-align: right;\">5.0</td><td style=\"text-align: right;\">     2</td><td>[4.0,4.1,4.0]            </td><td style=\"text-align: right;\">               3.9</td><td style=\"text-align: right;\">    106782</td><td>Wolf of Wall Street, The (2013)                   </td><td>Comedy|Crime|Drama                        </td></tr>\\n<tr><td style=\"text-align: right;\">  3.6</td><td style=\"text-align: right;\">5.0</td><td style=\"text-align: right;\">     2</td><td>[4.0]                    </td><td style=\"text-align: right;\">               3.6</td><td style=\"text-align: right;\">     60756</td><td>Step Brothers (2008)                              </td><td>Comedy                                    </td></tr>\\n<tr><td style=\"text-align: right;\">  3.6</td><td style=\"text-align: right;\">4.0</td><td style=\"text-align: right;\">     2</td><td>[4.0,4.0,3.9]            </td><td style=\"text-align: right;\">               4.0</td><td style=\"text-align: right;\">     74458</td><td>Shutter Island (2010)                             </td><td>Drama|Mystery|Thriller                    </td></tr>\\n<tr><td style=\"text-align: right;\">  3.4</td><td style=\"text-align: right;\">4.0</td><td style=\"text-align: right;\">     2</td><td>[4.0,4.0]                </td><td style=\"text-align: right;\">               3.2</td><td style=\"text-align: right;\">     46970</td><td>Talladega Nights: The Ballad of Ricky Bobby (2006)</td><td>Action|Comedy                             </td></tr>\\n<tr><td style=\"text-align: right;\">  3.0</td><td style=\"text-align: right;\">2.5</td><td style=\"text-align: right;\">     2</td><td>[4.0,3.9]                </td><td style=\"text-align: right;\">               3.5</td><td style=\"text-align: right;\">     91658</td><td>Girl with the Dragon Tattoo, The (2011)           </td><td>Drama|Thriller                            </td></tr>\\n<tr><td style=\"text-align: right;\">  3.0</td><td style=\"text-align: right;\">3.0</td><td style=\"text-align: right;\">     2</td><td>[4.0,4.0]                </td><td style=\"text-align: right;\">               4.0</td><td style=\"text-align: right;\">     77455</td><td>Exit Through the Gift Shop (2010)                 </td><td>Comedy|Documentary                        </td></tr>\\n<tr><td style=\"text-align: right;\">  2.6</td><td style=\"text-align: right;\">3.0</td><td style=\"text-align: right;\">     2</td><td>[4.0,4.0,3.0]            </td><td style=\"text-align: right;\">               3.9</td><td style=\"text-align: right;\">     71535</td><td>Zombieland (2009)                                 </td><td>Action|Comedy|Horror                      </td></tr>\\n</tbody>\\n</table>'"
      ]
     },
     "execution_count": 183,
     "metadata": {},
     "output_type": "execute_result"
    }
   ],
   "source": [
    "uid = 2 \n",
    "# form a set of user vectors. This is the same vector, transformed and repeated.\n",
    "user_vecs, y_vecs = get_user_vecs(uid, user_train_unscaled, item_vecs, user_to_genre)\n",
    "\n",
    "# scale our user and item vectors\n",
    "suser_vecs = scalerUser.transform(user_vecs)\n",
    "sitem_vecs = scalerItem.transform(item_vecs)\n",
    "\n",
    "# make a prediction\n",
    "y_p = model.predict([suser_vecs[:, u_s:], sitem_vecs[:, i_s:]])\n",
    "\n",
    "# unscale y prediction \n",
    "y_pu = scalerTarget.inverse_transform(y_p)\n",
    "\n",
    "# sort the results, highest prediction first\n",
    "sorted_index = np.argsort(-y_pu,axis=0).reshape(-1).tolist()  #negate to get largest rating first\n",
    "sorted_ypu   = y_pu[sorted_index]\n",
    "sorted_items = item_vecs[sorted_index]  #using unscaled vectors for display\n",
    "sorted_user  = user_vecs[sorted_index]\n",
    "sorted_y     = y_vecs[sorted_index]\n",
    "\n",
    "#print sorted predictions for movies rated by the user\n",
    "print_existing_user(sorted_ypu, sorted_y.reshape(-1,1), sorted_user, sorted_items, ivs, uvs, movie_dict, maxcount = 50)"
   ]
  },
  {
   "cell_type": "markdown",
   "metadata": {},
   "source": [
    "##### Finding similar items"
   ]
  },
  {
   "cell_type": "markdown",
   "metadata": {},
   "source": [
    "The neural network above produces two feature vectors, a user feature vector $v_u$, and a movie feature vector, $v_m$. These are 32 entry vectors whose values are difficult to interpret. However, similar items will have similar vectors. This information can be used to make recommendations. For example, if a user has rated \"Toy Story 3\" highly, one could recommend similar movies by selecting movies with similar movie feature vectors.\n",
    "\n",
    "A similarity measure is the squared distance between the two vectors $ \\mathbf{v_m^{(k)}}$ and $\\mathbf{v_m^{(i)}}$ :\n",
    "$$\\left\\Vert \\mathbf{v_m^{(k)}} - \\mathbf{v_m^{(i)}}  \\right\\Vert^2 = \\sum_{l=1}^{n}(v_{m_l}^{(k)} - v_{m_l}^{(i)})^2\\tag{1}$$"
   ]
  },
  {
   "cell_type": "code",
   "execution_count": 184,
   "metadata": {},
   "outputs": [],
   "source": [
    "def sq_dist(a,b):\n",
    "    \"\"\"\n",
    "    Returns the squared distance between two vectors\n",
    "    Args:\n",
    "      a (ndarray (n,)): vector with n features\n",
    "      b (ndarray (n,)): vector with n features\n",
    "    Returns:\n",
    "      d (float) : distance\n",
    "    \"\"\"\n",
    "    d = np.sum((a-b)**2)\n",
    "    \n",
    "    return d"
   ]
  },
  {
   "cell_type": "code",
   "execution_count": 185,
   "metadata": {},
   "outputs": [
    {
     "name": "stdout",
     "output_type": "stream",
     "text": [
      "squared distance between a1 and b1: 0.000\n",
      "squared distance between a2 and b2: 0.030\n",
      "squared distance between a3 and b3: 2.000\n"
     ]
    }
   ],
   "source": [
    "a1 = np.array([1.0, 2.0, 3.0]); b1 = np.array([1.0, 2.0, 3.0])\n",
    "a2 = np.array([1.1, 2.1, 3.1]); b2 = np.array([1.0, 2.0, 3.0])\n",
    "a3 = np.array([0, 1, 0]);       b3 = np.array([1, 0, 0])\n",
    "print(f\"squared distance between a1 and b1: {sq_dist(a1, b1):0.3f}\")\n",
    "print(f\"squared distance between a2 and b2: {sq_dist(a2, b2):0.3f}\")\n",
    "print(f\"squared distance between a3 and b3: {sq_dist(a3, b3):0.3f}\")"
   ]
  },
  {
   "cell_type": "markdown",
   "metadata": {},
   "source": [
    "A matrix of distances between movies can be computed once when the model is trained and then reused for new recommendations without retraining. The first step, once a model is trained, is to obtain the movie feature vector, $v_m$, for each of the movies. To do this, we will use the trained `item_NN` and build a small model to allow us to run the movie vectors through it to generate $v_m$."
   ]
  },
  {
   "cell_type": "code",
   "execution_count": 188,
   "metadata": {},
   "outputs": [
    {
     "data": {
      "text/html": [
       "<pre style=\"white-space:pre;overflow-x:auto;line-height:normal;font-family:Menlo,'DejaVu Sans Mono',consolas,'Courier New',monospace\"><span style=\"font-weight: bold\">Model: \"functional_103\"</span>\n",
       "</pre>\n"
      ],
      "text/plain": [
       "\u001b[1mModel: \"functional_103\"\u001b[0m\n"
      ]
     },
     "metadata": {},
     "output_type": "display_data"
    },
    {
     "data": {
      "text/html": [
       "<pre style=\"white-space:pre;overflow-x:auto;line-height:normal;font-family:Menlo,'DejaVu Sans Mono',consolas,'Courier New',monospace\">┏━━━━━━━━━━━━━━━━━━━━━━━━━━━━━━━━━┳━━━━━━━━━━━━━━━━━━━━━━━━┳━━━━━━━━━━━━━━━┓\n",
       "┃<span style=\"font-weight: bold\"> Layer (type)                    </span>┃<span style=\"font-weight: bold\"> Output Shape           </span>┃<span style=\"font-weight: bold\">       Param # </span>┃\n",
       "┡━━━━━━━━━━━━━━━━━━━━━━━━━━━━━━━━━╇━━━━━━━━━━━━━━━━━━━━━━━━╇━━━━━━━━━━━━━━━┩\n",
       "│ input_layer_158 (<span style=\"color: #0087ff; text-decoration-color: #0087ff\">InputLayer</span>)    │ (<span style=\"color: #00d7ff; text-decoration-color: #00d7ff\">None</span>, <span style=\"color: #00af00; text-decoration-color: #00af00\">16</span>)             │             <span style=\"color: #00af00; text-decoration-color: #00af00\">0</span> │\n",
       "├─────────────────────────────────┼────────────────────────┼───────────────┤\n",
       "│ sequential_99 (<span style=\"color: #0087ff; text-decoration-color: #0087ff\">Sequential</span>)      │ (<span style=\"color: #00d7ff; text-decoration-color: #00d7ff\">None</span>, <span style=\"color: #00af00; text-decoration-color: #00af00\">32</span>)             │        <span style=\"color: #00af00; text-decoration-color: #00af00\">41,376</span> │\n",
       "└─────────────────────────────────┴────────────────────────┴───────────────┘\n",
       "</pre>\n"
      ],
      "text/plain": [
       "┏━━━━━━━━━━━━━━━━━━━━━━━━━━━━━━━━━┳━━━━━━━━━━━━━━━━━━━━━━━━┳━━━━━━━━━━━━━━━┓\n",
       "┃\u001b[1m \u001b[0m\u001b[1mLayer (type)                   \u001b[0m\u001b[1m \u001b[0m┃\u001b[1m \u001b[0m\u001b[1mOutput Shape          \u001b[0m\u001b[1m \u001b[0m┃\u001b[1m \u001b[0m\u001b[1m      Param #\u001b[0m\u001b[1m \u001b[0m┃\n",
       "┡━━━━━━━━━━━━━━━━━━━━━━━━━━━━━━━━━╇━━━━━━━━━━━━━━━━━━━━━━━━╇━━━━━━━━━━━━━━━┩\n",
       "│ input_layer_158 (\u001b[38;5;33mInputLayer\u001b[0m)    │ (\u001b[38;5;45mNone\u001b[0m, \u001b[38;5;34m16\u001b[0m)             │             \u001b[38;5;34m0\u001b[0m │\n",
       "├─────────────────────────────────┼────────────────────────┼───────────────┤\n",
       "│ sequential_99 (\u001b[38;5;33mSequential\u001b[0m)      │ (\u001b[38;5;45mNone\u001b[0m, \u001b[38;5;34m32\u001b[0m)             │        \u001b[38;5;34m41,376\u001b[0m │\n",
       "└─────────────────────────────────┴────────────────────────┴───────────────┘\n"
      ]
     },
     "metadata": {},
     "output_type": "display_data"
    },
    {
     "data": {
      "text/html": [
       "<pre style=\"white-space:pre;overflow-x:auto;line-height:normal;font-family:Menlo,'DejaVu Sans Mono',consolas,'Courier New',monospace\"><span style=\"font-weight: bold\"> Total params: </span><span style=\"color: #00af00; text-decoration-color: #00af00\">41,376</span> (161.62 KB)\n",
       "</pre>\n"
      ],
      "text/plain": [
       "\u001b[1m Total params: \u001b[0m\u001b[38;5;34m41,376\u001b[0m (161.62 KB)\n"
      ]
     },
     "metadata": {},
     "output_type": "display_data"
    },
    {
     "data": {
      "text/html": [
       "<pre style=\"white-space:pre;overflow-x:auto;line-height:normal;font-family:Menlo,'DejaVu Sans Mono',consolas,'Courier New',monospace\"><span style=\"font-weight: bold\"> Trainable params: </span><span style=\"color: #00af00; text-decoration-color: #00af00\">41,376</span> (161.62 KB)\n",
       "</pre>\n"
      ],
      "text/plain": [
       "\u001b[1m Trainable params: \u001b[0m\u001b[38;5;34m41,376\u001b[0m (161.62 KB)\n"
      ]
     },
     "metadata": {},
     "output_type": "display_data"
    },
    {
     "data": {
      "text/html": [
       "<pre style=\"white-space:pre;overflow-x:auto;line-height:normal;font-family:Menlo,'DejaVu Sans Mono',consolas,'Courier New',monospace\"><span style=\"font-weight: bold\"> Non-trainable params: </span><span style=\"color: #00af00; text-decoration-color: #00af00\">0</span> (0.00 B)\n",
       "</pre>\n"
      ],
      "text/plain": [
       "\u001b[1m Non-trainable params: \u001b[0m\u001b[38;5;34m0\u001b[0m (0.00 B)\n"
      ]
     },
     "metadata": {},
     "output_type": "display_data"
    }
   ],
   "source": [
    "input_item_m = tf.keras.layers.Input(shape=(num_item_features,))    # input layer\n",
    "vm_m = item_NN(input_item_m)                                       # use the trained item_NN\n",
    "#vm_m = tf.linalg.l2_normalize(vm_m, axis=1)                        # incorporate normalization as was done in the original model\n",
    "model_m = tf.keras.Model(input_item_m, vm_m)                                \n",
    "model_m.summary()"
   ]
  },
  {
   "cell_type": "markdown",
   "metadata": {},
   "source": [
    "Once you have a movie model, you can create a set of movie feature vectors by using the model to predict using a set of item/movie vectors as input. `item_vecs` is a set of all of the movie vectors. It must be scaled to use with the trained model. The result of the prediction is a 32 entry feature vector for each movie."
   ]
  },
  {
   "cell_type": "code",
   "execution_count": 189,
   "metadata": {},
   "outputs": [
    {
     "name": "stdout",
     "output_type": "stream",
     "text": [
      "\u001b[1m27/27\u001b[0m \u001b[32m━━━━━━━━━━━━━━━━━━━━\u001b[0m\u001b[37m\u001b[0m \u001b[1m0s\u001b[0m 4ms/step\n",
      "size of all predicted movie feature vectors: (847, 32)\n"
     ]
    }
   ],
   "source": [
    "scaled_item_vecs = scalerItem.transform(item_vecs)\n",
    "vms = model_m.predict(scaled_item_vecs[:,i_s:])\n",
    "print(f\"size of all predicted movie feature vectors: {vms.shape}\")"
   ]
  },
  {
   "cell_type": "markdown",
   "metadata": {},
   "source": [
    "We can then find the closest movie by finding the minimum along each row. We will make use of [numpy masked arrays](https://numpy.org/doc/1.21/user/tutorial-ma.html) to avoid selecting the same movie. The masked values along the diagonal won't be included in the computation."
   ]
  },
  {
   "cell_type": "code",
   "execution_count": 190,
   "metadata": {},
   "outputs": [
    {
     "data": {
      "text/html": [
       "<table>\n",
       "<thead>\n",
       "<tr><th>movie1                                  </th><th>genres                                             </th><th>movie2                                                           </th><th>genres                                             </th></tr>\n",
       "</thead>\n",
       "<tbody>\n",
       "<tr><td>Save the Last Dance (2001)              </td><td>Drama|Romance                                      </td><td>Phantom of the Opera, The (2004)                                 </td><td>Drama|Romance                                      </td></tr>\n",
       "<tr><td>Wedding Planner, The (2001)             </td><td>Comedy|Romance                                     </td><td>Mr. Deeds (2002)                                                 </td><td>Comedy|Romance                                     </td></tr>\n",
       "<tr><td>Hannibal (2001)                         </td><td>Horror|Thriller                                    </td><td>Final Destination 2 (2003)                                       </td><td>Horror|Thriller                                    </td></tr>\n",
       "<tr><td>Saving Silverman (Evil Woman) (2001)    </td><td>Comedy|Romance                                     </td><td>Wedding Planner, The (2001)                                      </td><td>Comedy|Romance                                     </td></tr>\n",
       "<tr><td>Down to Earth (2001)                    </td><td>Comedy|Fantasy|Romance                             </td><td>Sex and the City (2008)                                          </td><td>Comedy|Fantasy|Romance                             </td></tr>\n",
       "<tr><td>Mexican, The (2001)                     </td><td>Action|Comedy                                      </td><td>Rush Hour 2 (2001)                                               </td><td>Action|Comedy                                      </td></tr>\n",
       "<tr><td>15 Minutes (2001)                       </td><td>Thriller                                           </td><td>Panic Room (2002)                                                </td><td>Thriller                                           </td></tr>\n",
       "<tr><td>Enemy at the Gates (2001)               </td><td>Drama                                              </td><td>Dreamers, The (2003)                                             </td><td>Drama                                              </td></tr>\n",
       "<tr><td>Heartbreakers (2001)                    </td><td>Comedy|Crime|Romance                               </td><td>America&#x27;s Sweethearts (2001)                                     </td><td>Comedy|Crime|Romance                               </td></tr>\n",
       "<tr><td>Spy Kids (2001)                         </td><td>Action|Adventure|Children|Comedy                   </td><td>Lara Croft: Tomb Raider (2001)                                   </td><td>Action|Adventure|Children|Comedy                   </td></tr>\n",
       "<tr><td>Along Came a Spider (2001)              </td><td>Action|Crime|Mystery|Thriller                      </td><td>Red Dragon (2002)                                                </td><td>Action|Crime|Mystery|Thriller                      </td></tr>\n",
       "<tr><td>Blow (2001)                             </td><td>Crime|Drama                                        </td><td>Catch Me If You Can (2002)                                       </td><td>Crime|Drama                                        </td></tr>\n",
       "<tr><td>Bridget Jones&#x27;s Diary (2001)            </td><td>Comedy|Drama|Romance                               </td><td>Punch-Drunk Love (2002)                                          </td><td>Comedy|Drama|Romance                               </td></tr>\n",
       "<tr><td>Joe Dirt (2001)                         </td><td>Adventure|Comedy|Mystery|Romance                   </td><td>Batman v Superman: Dawn of Justice (2016)                        </td><td>Adventure|Comedy|Mystery|Romance                   </td></tr>\n",
       "<tr><td>Crocodile Dundee in Los Angeles (2001)  </td><td>Comedy|Drama                                       </td><td>Dumb and Dumberer: When Harry Met Lloyd (2003)                   </td><td>Comedy|Drama                                       </td></tr>\n",
       "<tr><td>Mummy Returns, The (2001)               </td><td>Action|Adventure|Comedy|Thriller                   </td><td>Die Another Day (2002)                                           </td><td>Action|Adventure|Comedy|Thriller                   </td></tr>\n",
       "<tr><td>Knight&#x27;s Tale, A (2001)                 </td><td>Action|Comedy|Romance                              </td><td>Bend It Like Beckham (2002)                                      </td><td>Action|Comedy|Romance                              </td></tr>\n",
       "<tr><td>Shrek (2001)                            </td><td>Adventure|Animation|Children|Comedy|Fantasy|Romance</td><td>Lilo &amp; Stitch (2002)                                             </td><td>Adventure|Animation|Children|Comedy|Fantasy|Romance</td></tr>\n",
       "<tr><td>Moulin Rouge (2001)                     </td><td>Drama|Romance                                      </td><td>Hours, The (2002)                                                </td><td>Drama|Romance                                      </td></tr>\n",
       "<tr><td>Pearl Harbor (2001)                     </td><td>Action|Drama|Romance                               </td><td>Day After Tomorrow, The (2004)                                   </td><td>Action|Drama|Romance                               </td></tr>\n",
       "<tr><td>Animal, The (2001)                      </td><td>Comedy                                             </td><td>Dr. Dolittle 2 (2001)                                            </td><td>Comedy                                             </td></tr>\n",
       "<tr><td>Evolution (2001)                        </td><td>Comedy|Sci-Fi                                      </td><td>Day After Tomorrow, The (2004)                                   </td><td>Comedy|Sci-Fi                                      </td></tr>\n",
       "<tr><td>Swordfish (2001)                        </td><td>Action|Crime|Drama                                 </td><td>Transporter, The (2002)                                          </td><td>Action|Crime|Drama                                 </td></tr>\n",
       "<tr><td>Atlantis: The Lost Empire (2001)        </td><td>Adventure|Animation|Children|Fantasy               </td><td>Hugo (2011)                                                      </td><td>Adventure|Animation|Children|Fantasy               </td></tr>\n",
       "<tr><td>Lara Croft: Tomb Raider (2001)          </td><td>Action|Adventure                                   </td><td>Rundown, The (2003)                                              </td><td>Action|Adventure                                   </td></tr>\n",
       "<tr><td>Dr. Dolittle 2 (2001)                   </td><td>Comedy                                             </td><td>Not Another Teen Movie (2001)                                    </td><td>Comedy                                             </td></tr>\n",
       "<tr><td>Fast and the Furious, The (2001)        </td><td>Action|Crime|Thriller                              </td><td>xXx (2002)                                                       </td><td>Action|Crime|Thriller                              </td></tr>\n",
       "<tr><td>A.I. Artificial Intelligence (2001)     </td><td>Adventure|Drama|Sci-Fi                             </td><td>Monster&#x27;s Ball (2001)                                            </td><td>Adventure|Drama|Sci-Fi                             </td></tr>\n",
       "<tr><td>Cats &amp; Dogs (2001)                      </td><td>Children|Comedy                                    </td><td>Lake House, The (2006)                                           </td><td>Children|Comedy                                    </td></tr>\n",
       "<tr><td>Scary Movie 2 (2001)                    </td><td>Comedy                                             </td><td>Not Another Teen Movie (2001)                                    </td><td>Comedy                                             </td></tr>\n",
       "<tr><td>Final Fantasy: The Spirits Within (2001)</td><td>Adventure|Animation|Fantasy|Sci-Fi                 </td><td>Final Fantasy VII: Advent Children (2004)                        </td><td>Adventure|Animation|Fantasy|Sci-Fi                 </td></tr>\n",
       "<tr><td>Legally Blonde (2001)                   </td><td>Comedy|Romance                                     </td><td>Serendipity (2001)                                               </td><td>Comedy|Romance                                     </td></tr>\n",
       "<tr><td>Score, The (2001)                       </td><td>Action|Drama                                       </td><td>Jarhead (2005)                                                   </td><td>Action|Drama                                       </td></tr>\n",
       "<tr><td>Jurassic Park III (2001)                </td><td>Action|Adventure|Sci-Fi|Thriller                   </td><td>Matrix Revolutions, The (2003)                                   </td><td>Action|Adventure|Sci-Fi|Thriller                   </td></tr>\n",
       "<tr><td>America&#x27;s Sweethearts (2001)            </td><td>Comedy|Romance                                     </td><td>Maid in Manhattan (2002)                                         </td><td>Comedy|Romance                                     </td></tr>\n",
       "<tr><td>Ghost World (2001)                      </td><td>Comedy|Drama                                       </td><td>Igby Goes Down (2002)                                            </td><td>Comedy|Drama                                       </td></tr>\n",
       "<tr><td>Planet of the Apes (2001)               </td><td>Action|Adventure|Drama|Sci-Fi                      </td><td>Day After Tomorrow, The (2004)                                   </td><td>Action|Adventure|Drama|Sci-Fi                      </td></tr>\n",
       "<tr><td>Princess Diaries, The (2001)            </td><td>Children|Comedy|Romance                            </td><td>Kate &amp; Leopold (2001)                                            </td><td>Children|Comedy|Romance                            </td></tr>\n",
       "<tr><td>Rush Hour 2 (2001)                      </td><td>Action|Comedy                                      </td><td>Mexican, The (2001)                                              </td><td>Action|Comedy                                      </td></tr>\n",
       "<tr><td>American Pie 2 (2001)                   </td><td>Comedy                                             </td><td>Rat Race (2001)                                                  </td><td>Comedy                                             </td></tr>\n",
       "<tr><td>Others, The (2001)                      </td><td>Drama|Horror|Mystery|Thriller                      </td><td>Shutter Island (2010)                                            </td><td>Drama|Horror|Mystery|Thriller                      </td></tr>\n",
       "<tr><td>Rat Race (2001)                         </td><td>Comedy                                             </td><td>American Pie 2 (2001)                                            </td><td>Comedy                                             </td></tr>\n",
       "<tr><td>Jay and Silent Bob Strike Back (2001)   </td><td>Adventure|Comedy                                   </td><td>Hitch (2005)                                                     </td><td>Adventure|Comedy                                   </td></tr>\n",
       "<tr><td>Training Day (2001)                     </td><td>Crime|Drama|Thriller                               </td><td>Frailty (2001)                                                   </td><td>Crime|Drama|Thriller                               </td></tr>\n",
       "<tr><td>Zoolander (2001)                        </td><td>Comedy                                             </td><td>Station Agent, The (2003)                                        </td><td>Comedy                                             </td></tr>\n",
       "<tr><td>Serendipity (2001)                      </td><td>Comedy|Romance                                     </td><td>Legally Blonde (2001)                                            </td><td>Comedy|Romance                                     </td></tr>\n",
       "<tr><td>Mulholland Drive (2001)                 </td><td>Crime|Drama|Mystery|Thriller                       </td><td>Michael Clayton (2007)                                           </td><td>Crime|Drama|Mystery|Thriller                       </td></tr>\n",
       "<tr><td>From Hell (2001)                        </td><td>Crime|Horror|Mystery|Thriller                      </td><td>Red Dragon (2002)                                                </td><td>Crime|Horror|Mystery|Thriller                      </td></tr>\n",
       "<tr><td>Waking Life (2001)                      </td><td>Animation|Drama|Fantasy                            </td><td>Triplets of Belleville, The (Les triplettes de Belleville) (2003)</td><td>Animation|Drama|Fantasy                            </td></tr>\n",
       "<tr><td>K-PAX (2001)                            </td><td>Drama|Fantasy|Mystery|Sci-Fi                       </td><td>The Machinist (2004)                                             </td><td>Drama|Fantasy|Mystery|Sci-Fi                       </td></tr>\n",
       "</tbody>\n",
       "</table>"
      ],
      "text/plain": [
       "'<table>\\n<thead>\\n<tr><th>movie1                                  </th><th>genres                                             </th><th>movie2                                                           </th><th>genres                                             </th></tr>\\n</thead>\\n<tbody>\\n<tr><td>Save the Last Dance (2001)              </td><td>Drama|Romance                                      </td><td>Phantom of the Opera, The (2004)                                 </td><td>Drama|Romance                                      </td></tr>\\n<tr><td>Wedding Planner, The (2001)             </td><td>Comedy|Romance                                     </td><td>Mr. Deeds (2002)                                                 </td><td>Comedy|Romance                                     </td></tr>\\n<tr><td>Hannibal (2001)                         </td><td>Horror|Thriller                                    </td><td>Final Destination 2 (2003)                                       </td><td>Horror|Thriller                                    </td></tr>\\n<tr><td>Saving Silverman (Evil Woman) (2001)    </td><td>Comedy|Romance                                     </td><td>Wedding Planner, The (2001)                                      </td><td>Comedy|Romance                                     </td></tr>\\n<tr><td>Down to Earth (2001)                    </td><td>Comedy|Fantasy|Romance                             </td><td>Sex and the City (2008)                                          </td><td>Comedy|Fantasy|Romance                             </td></tr>\\n<tr><td>Mexican, The (2001)                     </td><td>Action|Comedy                                      </td><td>Rush Hour 2 (2001)                                               </td><td>Action|Comedy                                      </td></tr>\\n<tr><td>15 Minutes (2001)                       </td><td>Thriller                                           </td><td>Panic Room (2002)                                                </td><td>Thriller                                           </td></tr>\\n<tr><td>Enemy at the Gates (2001)               </td><td>Drama                                              </td><td>Dreamers, The (2003)                                             </td><td>Drama                                              </td></tr>\\n<tr><td>Heartbreakers (2001)                    </td><td>Comedy|Crime|Romance                               </td><td>America&#x27;s Sweethearts (2001)                                     </td><td>Comedy|Crime|Romance                               </td></tr>\\n<tr><td>Spy Kids (2001)                         </td><td>Action|Adventure|Children|Comedy                   </td><td>Lara Croft: Tomb Raider (2001)                                   </td><td>Action|Adventure|Children|Comedy                   </td></tr>\\n<tr><td>Along Came a Spider (2001)              </td><td>Action|Crime|Mystery|Thriller                      </td><td>Red Dragon (2002)                                                </td><td>Action|Crime|Mystery|Thriller                      </td></tr>\\n<tr><td>Blow (2001)                             </td><td>Crime|Drama                                        </td><td>Catch Me If You Can (2002)                                       </td><td>Crime|Drama                                        </td></tr>\\n<tr><td>Bridget Jones&#x27;s Diary (2001)            </td><td>Comedy|Drama|Romance                               </td><td>Punch-Drunk Love (2002)                                          </td><td>Comedy|Drama|Romance                               </td></tr>\\n<tr><td>Joe Dirt (2001)                         </td><td>Adventure|Comedy|Mystery|Romance                   </td><td>Batman v Superman: Dawn of Justice (2016)                        </td><td>Adventure|Comedy|Mystery|Romance                   </td></tr>\\n<tr><td>Crocodile Dundee in Los Angeles (2001)  </td><td>Comedy|Drama                                       </td><td>Dumb and Dumberer: When Harry Met Lloyd (2003)                   </td><td>Comedy|Drama                                       </td></tr>\\n<tr><td>Mummy Returns, The (2001)               </td><td>Action|Adventure|Comedy|Thriller                   </td><td>Die Another Day (2002)                                           </td><td>Action|Adventure|Comedy|Thriller                   </td></tr>\\n<tr><td>Knight&#x27;s Tale, A (2001)                 </td><td>Action|Comedy|Romance                              </td><td>Bend It Like Beckham (2002)                                      </td><td>Action|Comedy|Romance                              </td></tr>\\n<tr><td>Shrek (2001)                            </td><td>Adventure|Animation|Children|Comedy|Fantasy|Romance</td><td>Lilo &amp; Stitch (2002)                                             </td><td>Adventure|Animation|Children|Comedy|Fantasy|Romance</td></tr>\\n<tr><td>Moulin Rouge (2001)                     </td><td>Drama|Romance                                      </td><td>Hours, The (2002)                                                </td><td>Drama|Romance                                      </td></tr>\\n<tr><td>Pearl Harbor (2001)                     </td><td>Action|Drama|Romance                               </td><td>Day After Tomorrow, The (2004)                                   </td><td>Action|Drama|Romance                               </td></tr>\\n<tr><td>Animal, The (2001)                      </td><td>Comedy                                             </td><td>Dr. Dolittle 2 (2001)                                            </td><td>Comedy                                             </td></tr>\\n<tr><td>Evolution (2001)                        </td><td>Comedy|Sci-Fi                                      </td><td>Day After Tomorrow, The (2004)                                   </td><td>Comedy|Sci-Fi                                      </td></tr>\\n<tr><td>Swordfish (2001)                        </td><td>Action|Crime|Drama                                 </td><td>Transporter, The (2002)                                          </td><td>Action|Crime|Drama                                 </td></tr>\\n<tr><td>Atlantis: The Lost Empire (2001)        </td><td>Adventure|Animation|Children|Fantasy               </td><td>Hugo (2011)                                                      </td><td>Adventure|Animation|Children|Fantasy               </td></tr>\\n<tr><td>Lara Croft: Tomb Raider (2001)          </td><td>Action|Adventure                                   </td><td>Rundown, The (2003)                                              </td><td>Action|Adventure                                   </td></tr>\\n<tr><td>Dr. Dolittle 2 (2001)                   </td><td>Comedy                                             </td><td>Not Another Teen Movie (2001)                                    </td><td>Comedy                                             </td></tr>\\n<tr><td>Fast and the Furious, The (2001)        </td><td>Action|Crime|Thriller                              </td><td>xXx (2002)                                                       </td><td>Action|Crime|Thriller                              </td></tr>\\n<tr><td>A.I. Artificial Intelligence (2001)     </td><td>Adventure|Drama|Sci-Fi                             </td><td>Monster&#x27;s Ball (2001)                                            </td><td>Adventure|Drama|Sci-Fi                             </td></tr>\\n<tr><td>Cats &amp; Dogs (2001)                      </td><td>Children|Comedy                                    </td><td>Lake House, The (2006)                                           </td><td>Children|Comedy                                    </td></tr>\\n<tr><td>Scary Movie 2 (2001)                    </td><td>Comedy                                             </td><td>Not Another Teen Movie (2001)                                    </td><td>Comedy                                             </td></tr>\\n<tr><td>Final Fantasy: The Spirits Within (2001)</td><td>Adventure|Animation|Fantasy|Sci-Fi                 </td><td>Final Fantasy VII: Advent Children (2004)                        </td><td>Adventure|Animation|Fantasy|Sci-Fi                 </td></tr>\\n<tr><td>Legally Blonde (2001)                   </td><td>Comedy|Romance                                     </td><td>Serendipity (2001)                                               </td><td>Comedy|Romance                                     </td></tr>\\n<tr><td>Score, The (2001)                       </td><td>Action|Drama                                       </td><td>Jarhead (2005)                                                   </td><td>Action|Drama                                       </td></tr>\\n<tr><td>Jurassic Park III (2001)                </td><td>Action|Adventure|Sci-Fi|Thriller                   </td><td>Matrix Revolutions, The (2003)                                   </td><td>Action|Adventure|Sci-Fi|Thriller                   </td></tr>\\n<tr><td>America&#x27;s Sweethearts (2001)            </td><td>Comedy|Romance                                     </td><td>Maid in Manhattan (2002)                                         </td><td>Comedy|Romance                                     </td></tr>\\n<tr><td>Ghost World (2001)                      </td><td>Comedy|Drama                                       </td><td>Igby Goes Down (2002)                                            </td><td>Comedy|Drama                                       </td></tr>\\n<tr><td>Planet of the Apes (2001)               </td><td>Action|Adventure|Drama|Sci-Fi                      </td><td>Day After Tomorrow, The (2004)                                   </td><td>Action|Adventure|Drama|Sci-Fi                      </td></tr>\\n<tr><td>Princess Diaries, The (2001)            </td><td>Children|Comedy|Romance                            </td><td>Kate &amp; Leopold (2001)                                            </td><td>Children|Comedy|Romance                            </td></tr>\\n<tr><td>Rush Hour 2 (2001)                      </td><td>Action|Comedy                                      </td><td>Mexican, The (2001)                                              </td><td>Action|Comedy                                      </td></tr>\\n<tr><td>American Pie 2 (2001)                   </td><td>Comedy                                             </td><td>Rat Race (2001)                                                  </td><td>Comedy                                             </td></tr>\\n<tr><td>Others, The (2001)                      </td><td>Drama|Horror|Mystery|Thriller                      </td><td>Shutter Island (2010)                                            </td><td>Drama|Horror|Mystery|Thriller                      </td></tr>\\n<tr><td>Rat Race (2001)                         </td><td>Comedy                                             </td><td>American Pie 2 (2001)                                            </td><td>Comedy                                             </td></tr>\\n<tr><td>Jay and Silent Bob Strike Back (2001)   </td><td>Adventure|Comedy                                   </td><td>Hitch (2005)                                                     </td><td>Adventure|Comedy                                   </td></tr>\\n<tr><td>Training Day (2001)                     </td><td>Crime|Drama|Thriller                               </td><td>Frailty (2001)                                                   </td><td>Crime|Drama|Thriller                               </td></tr>\\n<tr><td>Zoolander (2001)                        </td><td>Comedy                                             </td><td>Station Agent, The (2003)                                        </td><td>Comedy                                             </td></tr>\\n<tr><td>Serendipity (2001)                      </td><td>Comedy|Romance                                     </td><td>Legally Blonde (2001)                                            </td><td>Comedy|Romance                                     </td></tr>\\n<tr><td>Mulholland Drive (2001)                 </td><td>Crime|Drama|Mystery|Thriller                       </td><td>Michael Clayton (2007)                                           </td><td>Crime|Drama|Mystery|Thriller                       </td></tr>\\n<tr><td>From Hell (2001)                        </td><td>Crime|Horror|Mystery|Thriller                      </td><td>Red Dragon (2002)                                                </td><td>Crime|Horror|Mystery|Thriller                      </td></tr>\\n<tr><td>Waking Life (2001)                      </td><td>Animation|Drama|Fantasy                            </td><td>Triplets of Belleville, The (Les triplettes de Belleville) (2003)</td><td>Animation|Drama|Fantasy                            </td></tr>\\n<tr><td>K-PAX (2001)                            </td><td>Drama|Fantasy|Mystery|Sci-Fi                       </td><td>The Machinist (2004)                                             </td><td>Drama|Fantasy|Mystery|Sci-Fi                       </td></tr>\\n</tbody>\\n</table>'"
      ]
     },
     "execution_count": 190,
     "metadata": {},
     "output_type": "execute_result"
    }
   ],
   "source": [
    "count = 50  # number of movies to display\n",
    "dim = len(vms)\n",
    "dist = np.zeros((dim,dim))\n",
    "\n",
    "for i in range(dim):\n",
    "    for j in range(dim):\n",
    "        dist[i,j] = sq_dist(vms[i, :], vms[j, :])\n",
    "        \n",
    "m_dist = ma.masked_array(dist, mask=np.identity(dist.shape[0]))  # mask the diagonal\n",
    "\n",
    "disp = [[\"movie1\", \"genres\", \"movie2\", \"genres\"]]\n",
    "for i in range(count):\n",
    "    min_idx = np.argmin(m_dist[i])\n",
    "    movie1_id = int(item_vecs[i,0])\n",
    "    movie2_id = int(item_vecs[min_idx,0])\n",
    "    disp.append( [movie_dict[movie1_id]['title'], movie_dict[movie1_id]['genres'],\n",
    "                  movie_dict[movie2_id]['title'], movie_dict[movie1_id]['genres']]\n",
    "               )\n",
    "table = tabulate.tabulate(disp, tablefmt='html', headers=\"firstrow\")\n",
    "table"
   ]
  }
 ],
 "metadata": {
  "kernelspec": {
   "display_name": "Python 3",
   "language": "python",
   "name": "python3"
  },
  "language_info": {
   "codemirror_mode": {
    "name": "ipython",
    "version": 3
   },
   "file_extension": ".py",
   "mimetype": "text/x-python",
   "name": "python",
   "nbconvert_exporter": "python",
   "pygments_lexer": "ipython3",
   "version": "3.11.9"
  }
 },
 "nbformat": 4,
 "nbformat_minor": 2
}
